{
 "cells": [
  {
   "cell_type": "markdown",
   "metadata": {},
   "source": [
    "##### Часть 1. Загрузка, изучение и подготовка данных:\n",
    "* [1. Подключение необходимых библиотек и импортирование функций.](#9.1-bullet)\n",
    "* [2. Загрузка и изучение файла с данными.](#9.2-bullet)\n",
    "* [3. Подготовка данных.](#9.3-bullet)\n",
    "\n",
    "##### Часть 2. Обучение моделей:\n",
    "* [4. Обучение модели \"Линейная регрессия\".](#9.4-bullet)\n",
    "* [5. Обучение модели \"Случайный лес\".](#9.5-bullet)\n",
    "* [6. Обучение модели \"Градиентный бустинг\".](#9.6-bullet)\n",
    "\n",
    "##### Часть 3. Анализ моделей:\n",
    "* [7. Анализ модели \"Линейная регрессия\".](#9.7-bullet)\n",
    "* [8. Анализ модели \"Случайный лес\".](#9.8-bullet)\n",
    "* [9. Анализ модели \"Градиентный бучтинг\".](#9.9-bullet)\n",
    "* [10. Вывод.](#9.10-bullet)\n"
   ]
  },
  {
   "cell_type": "markdown",
   "metadata": {},
   "source": [
    "## Часть 1. Загрузка, изучение и подготовка данных. "
   ]
  },
  {
   "cell_type": "markdown",
   "metadata": {},
   "source": [
    "<a id='9.1-bullet'></a> \n",
    "### 1. Подключение необходимых библиотек и импортирование функций. "
   ]
  },
  {
   "cell_type": "code",
   "execution_count": 1,
   "metadata": {},
   "outputs": [],
   "source": [
    "import pandas as pd\n",
    "import seaborn as sns\n",
    "import matplotlib.pyplot as plt\n",
    "import time\n",
    "\n",
    "from sklearn.preprocessing import OrdinalEncoder\n",
    "from sklearn.model_selection import train_test_split\n",
    "from sklearn.linear_model import LinearRegression\n",
    "from sklearn.preprocessing import StandardScaler\n",
    "from sklearn.pipeline import Pipeline\n",
    "from sklearn.metrics import mean_squared_error\n",
    "from sklearn.ensemble import RandomForestRegressor\n",
    "from sklearn.model_selection import GridSearchCV\n",
    "from sklearn.metrics import make_scorer\n",
    "from sklearn.model_selection import cross_val_score\n",
    "from lightgbm import LGBMRegressor\n",
    "\n",
    "pd.options.display.max_columns = 100\n",
    "pd.options.mode.chained_assignment = None\n",
    "\n",
    "RANDOM_STATE = 123456\n",
    "SEARCH_DEPTH = 'low'"
   ]
  },
  {
   "cell_type": "markdown",
   "metadata": {},
   "source": [
    "<a id='9.2-bullet'></a> \n",
    "### 2. Загрузка и изучение файла с данными. "
   ]
  },
  {
   "cell_type": "code",
   "execution_count": 2,
   "metadata": {},
   "outputs": [],
   "source": [
    "try:\n",
    "    data = pd.read_csv('/datasets/autos.csv')\n",
    "except:\n",
    "    data = pd.read_csv('../datasets/autos.csv')"
   ]
  },
  {
   "cell_type": "code",
   "execution_count": 3,
   "metadata": {},
   "outputs": [
    {
     "data": {
      "text/html": [
       "<div>\n",
       "<style scoped>\n",
       "    .dataframe tbody tr th:only-of-type {\n",
       "        vertical-align: middle;\n",
       "    }\n",
       "\n",
       "    .dataframe tbody tr th {\n",
       "        vertical-align: top;\n",
       "    }\n",
       "\n",
       "    .dataframe thead th {\n",
       "        text-align: right;\n",
       "    }\n",
       "</style>\n",
       "<table border=\"1\" class=\"dataframe\">\n",
       "  <thead>\n",
       "    <tr style=\"text-align: right;\">\n",
       "      <th></th>\n",
       "      <th>DateCrawled</th>\n",
       "      <th>Price</th>\n",
       "      <th>VehicleType</th>\n",
       "      <th>RegistrationYear</th>\n",
       "      <th>Gearbox</th>\n",
       "      <th>Power</th>\n",
       "      <th>Model</th>\n",
       "      <th>Kilometer</th>\n",
       "      <th>RegistrationMonth</th>\n",
       "      <th>FuelType</th>\n",
       "      <th>Brand</th>\n",
       "      <th>NotRepaired</th>\n",
       "      <th>DateCreated</th>\n",
       "      <th>NumberOfPictures</th>\n",
       "      <th>PostalCode</th>\n",
       "      <th>LastSeen</th>\n",
       "    </tr>\n",
       "  </thead>\n",
       "  <tbody>\n",
       "    <tr>\n",
       "      <th>0</th>\n",
       "      <td>2016-03-24 11:52:17</td>\n",
       "      <td>480</td>\n",
       "      <td>NaN</td>\n",
       "      <td>1993</td>\n",
       "      <td>manual</td>\n",
       "      <td>0</td>\n",
       "      <td>golf</td>\n",
       "      <td>150000</td>\n",
       "      <td>0</td>\n",
       "      <td>petrol</td>\n",
       "      <td>volkswagen</td>\n",
       "      <td>NaN</td>\n",
       "      <td>2016-03-24 00:00:00</td>\n",
       "      <td>0</td>\n",
       "      <td>70435</td>\n",
       "      <td>2016-04-07 03:16:57</td>\n",
       "    </tr>\n",
       "    <tr>\n",
       "      <th>1</th>\n",
       "      <td>2016-03-24 10:58:45</td>\n",
       "      <td>18300</td>\n",
       "      <td>coupe</td>\n",
       "      <td>2011</td>\n",
       "      <td>manual</td>\n",
       "      <td>190</td>\n",
       "      <td>NaN</td>\n",
       "      <td>125000</td>\n",
       "      <td>5</td>\n",
       "      <td>gasoline</td>\n",
       "      <td>audi</td>\n",
       "      <td>yes</td>\n",
       "      <td>2016-03-24 00:00:00</td>\n",
       "      <td>0</td>\n",
       "      <td>66954</td>\n",
       "      <td>2016-04-07 01:46:50</td>\n",
       "    </tr>\n",
       "    <tr>\n",
       "      <th>2</th>\n",
       "      <td>2016-03-14 12:52:21</td>\n",
       "      <td>9800</td>\n",
       "      <td>suv</td>\n",
       "      <td>2004</td>\n",
       "      <td>auto</td>\n",
       "      <td>163</td>\n",
       "      <td>grand</td>\n",
       "      <td>125000</td>\n",
       "      <td>8</td>\n",
       "      <td>gasoline</td>\n",
       "      <td>jeep</td>\n",
       "      <td>NaN</td>\n",
       "      <td>2016-03-14 00:00:00</td>\n",
       "      <td>0</td>\n",
       "      <td>90480</td>\n",
       "      <td>2016-04-05 12:47:46</td>\n",
       "    </tr>\n",
       "    <tr>\n",
       "      <th>3</th>\n",
       "      <td>2016-03-17 16:54:04</td>\n",
       "      <td>1500</td>\n",
       "      <td>small</td>\n",
       "      <td>2001</td>\n",
       "      <td>manual</td>\n",
       "      <td>75</td>\n",
       "      <td>golf</td>\n",
       "      <td>150000</td>\n",
       "      <td>6</td>\n",
       "      <td>petrol</td>\n",
       "      <td>volkswagen</td>\n",
       "      <td>no</td>\n",
       "      <td>2016-03-17 00:00:00</td>\n",
       "      <td>0</td>\n",
       "      <td>91074</td>\n",
       "      <td>2016-03-17 17:40:17</td>\n",
       "    </tr>\n",
       "    <tr>\n",
       "      <th>4</th>\n",
       "      <td>2016-03-31 17:25:20</td>\n",
       "      <td>3600</td>\n",
       "      <td>small</td>\n",
       "      <td>2008</td>\n",
       "      <td>manual</td>\n",
       "      <td>69</td>\n",
       "      <td>fabia</td>\n",
       "      <td>90000</td>\n",
       "      <td>7</td>\n",
       "      <td>gasoline</td>\n",
       "      <td>skoda</td>\n",
       "      <td>no</td>\n",
       "      <td>2016-03-31 00:00:00</td>\n",
       "      <td>0</td>\n",
       "      <td>60437</td>\n",
       "      <td>2016-04-06 10:17:21</td>\n",
       "    </tr>\n",
       "  </tbody>\n",
       "</table>\n",
       "</div>"
      ],
      "text/plain": [
       "           DateCrawled  Price VehicleType  RegistrationYear Gearbox  Power  \\\n",
       "0  2016-03-24 11:52:17    480         NaN              1993  manual      0   \n",
       "1  2016-03-24 10:58:45  18300       coupe              2011  manual    190   \n",
       "2  2016-03-14 12:52:21   9800         suv              2004    auto    163   \n",
       "3  2016-03-17 16:54:04   1500       small              2001  manual     75   \n",
       "4  2016-03-31 17:25:20   3600       small              2008  manual     69   \n",
       "\n",
       "   Model  Kilometer  RegistrationMonth  FuelType       Brand NotRepaired  \\\n",
       "0   golf     150000                  0    petrol  volkswagen         NaN   \n",
       "1    NaN     125000                  5  gasoline        audi         yes   \n",
       "2  grand     125000                  8  gasoline        jeep         NaN   \n",
       "3   golf     150000                  6    petrol  volkswagen          no   \n",
       "4  fabia      90000                  7  gasoline       skoda          no   \n",
       "\n",
       "           DateCreated  NumberOfPictures  PostalCode             LastSeen  \n",
       "0  2016-03-24 00:00:00                 0       70435  2016-04-07 03:16:57  \n",
       "1  2016-03-24 00:00:00                 0       66954  2016-04-07 01:46:50  \n",
       "2  2016-03-14 00:00:00                 0       90480  2016-04-05 12:47:46  \n",
       "3  2016-03-17 00:00:00                 0       91074  2016-03-17 17:40:17  \n",
       "4  2016-03-31 00:00:00                 0       60437  2016-04-06 10:17:21  "
      ]
     },
     "metadata": {},
     "output_type": "display_data"
    }
   ],
   "source": [
    "display(data.head())"
   ]
  },
  {
   "cell_type": "markdown",
   "metadata": {},
   "source": [
    "Выведем общую информацию о данных в таблице *data*"
   ]
  },
  {
   "cell_type": "code",
   "execution_count": 4,
   "metadata": {},
   "outputs": [
    {
     "name": "stdout",
     "output_type": "stream",
     "text": [
      "<class 'pandas.core.frame.DataFrame'>\n",
      "RangeIndex: 354369 entries, 0 to 354368\n",
      "Data columns (total 16 columns):\n",
      " #   Column             Non-Null Count   Dtype \n",
      "---  ------             --------------   ----- \n",
      " 0   DateCrawled        354369 non-null  object\n",
      " 1   Price              354369 non-null  int64 \n",
      " 2   VehicleType        316879 non-null  object\n",
      " 3   RegistrationYear   354369 non-null  int64 \n",
      " 4   Gearbox            334536 non-null  object\n",
      " 5   Power              354369 non-null  int64 \n",
      " 6   Model              334664 non-null  object\n",
      " 7   Kilometer          354369 non-null  int64 \n",
      " 8   RegistrationMonth  354369 non-null  int64 \n",
      " 9   FuelType           321474 non-null  object\n",
      " 10  Brand              354369 non-null  object\n",
      " 11  NotRepaired        283215 non-null  object\n",
      " 12  DateCreated        354369 non-null  object\n",
      " 13  NumberOfPictures   354369 non-null  int64 \n",
      " 14  PostalCode         354369 non-null  int64 \n",
      " 15  LastSeen           354369 non-null  object\n",
      "dtypes: int64(7), object(9)\n",
      "memory usage: 43.3+ MB\n"
     ]
    }
   ],
   "source": [
    "data.info()"
   ]
  },
  {
   "cell_type": "code",
   "execution_count": 5,
   "metadata": {},
   "outputs": [
    {
     "data": {
      "text/html": [
       "<div>\n",
       "<style scoped>\n",
       "    .dataframe tbody tr th:only-of-type {\n",
       "        vertical-align: middle;\n",
       "    }\n",
       "\n",
       "    .dataframe tbody tr th {\n",
       "        vertical-align: top;\n",
       "    }\n",
       "\n",
       "    .dataframe thead th {\n",
       "        text-align: right;\n",
       "    }\n",
       "</style>\n",
       "<table border=\"1\" class=\"dataframe\">\n",
       "  <thead>\n",
       "    <tr style=\"text-align: right;\">\n",
       "      <th></th>\n",
       "      <th>Price</th>\n",
       "      <th>RegistrationYear</th>\n",
       "      <th>Power</th>\n",
       "      <th>Kilometer</th>\n",
       "      <th>RegistrationMonth</th>\n",
       "      <th>NumberOfPictures</th>\n",
       "      <th>PostalCode</th>\n",
       "    </tr>\n",
       "  </thead>\n",
       "  <tbody>\n",
       "    <tr>\n",
       "      <th>count</th>\n",
       "      <td>354369.000000</td>\n",
       "      <td>354369.000000</td>\n",
       "      <td>354369.000000</td>\n",
       "      <td>354369.000000</td>\n",
       "      <td>354369.000000</td>\n",
       "      <td>354369.0</td>\n",
       "      <td>354369.000000</td>\n",
       "    </tr>\n",
       "    <tr>\n",
       "      <th>mean</th>\n",
       "      <td>4416.656776</td>\n",
       "      <td>2004.234448</td>\n",
       "      <td>110.094337</td>\n",
       "      <td>128211.172535</td>\n",
       "      <td>5.714645</td>\n",
       "      <td>0.0</td>\n",
       "      <td>50508.689087</td>\n",
       "    </tr>\n",
       "    <tr>\n",
       "      <th>std</th>\n",
       "      <td>4514.158514</td>\n",
       "      <td>90.227958</td>\n",
       "      <td>189.850405</td>\n",
       "      <td>37905.341530</td>\n",
       "      <td>3.726421</td>\n",
       "      <td>0.0</td>\n",
       "      <td>25783.096248</td>\n",
       "    </tr>\n",
       "    <tr>\n",
       "      <th>min</th>\n",
       "      <td>0.000000</td>\n",
       "      <td>1000.000000</td>\n",
       "      <td>0.000000</td>\n",
       "      <td>5000.000000</td>\n",
       "      <td>0.000000</td>\n",
       "      <td>0.0</td>\n",
       "      <td>1067.000000</td>\n",
       "    </tr>\n",
       "    <tr>\n",
       "      <th>25%</th>\n",
       "      <td>1050.000000</td>\n",
       "      <td>1999.000000</td>\n",
       "      <td>69.000000</td>\n",
       "      <td>125000.000000</td>\n",
       "      <td>3.000000</td>\n",
       "      <td>0.0</td>\n",
       "      <td>30165.000000</td>\n",
       "    </tr>\n",
       "    <tr>\n",
       "      <th>50%</th>\n",
       "      <td>2700.000000</td>\n",
       "      <td>2003.000000</td>\n",
       "      <td>105.000000</td>\n",
       "      <td>150000.000000</td>\n",
       "      <td>6.000000</td>\n",
       "      <td>0.0</td>\n",
       "      <td>49413.000000</td>\n",
       "    </tr>\n",
       "    <tr>\n",
       "      <th>75%</th>\n",
       "      <td>6400.000000</td>\n",
       "      <td>2008.000000</td>\n",
       "      <td>143.000000</td>\n",
       "      <td>150000.000000</td>\n",
       "      <td>9.000000</td>\n",
       "      <td>0.0</td>\n",
       "      <td>71083.000000</td>\n",
       "    </tr>\n",
       "    <tr>\n",
       "      <th>max</th>\n",
       "      <td>20000.000000</td>\n",
       "      <td>9999.000000</td>\n",
       "      <td>20000.000000</td>\n",
       "      <td>150000.000000</td>\n",
       "      <td>12.000000</td>\n",
       "      <td>0.0</td>\n",
       "      <td>99998.000000</td>\n",
       "    </tr>\n",
       "  </tbody>\n",
       "</table>\n",
       "</div>"
      ],
      "text/plain": [
       "               Price  RegistrationYear          Power      Kilometer  \\\n",
       "count  354369.000000     354369.000000  354369.000000  354369.000000   \n",
       "mean     4416.656776       2004.234448     110.094337  128211.172535   \n",
       "std      4514.158514         90.227958     189.850405   37905.341530   \n",
       "min         0.000000       1000.000000       0.000000    5000.000000   \n",
       "25%      1050.000000       1999.000000      69.000000  125000.000000   \n",
       "50%      2700.000000       2003.000000     105.000000  150000.000000   \n",
       "75%      6400.000000       2008.000000     143.000000  150000.000000   \n",
       "max     20000.000000       9999.000000   20000.000000  150000.000000   \n",
       "\n",
       "       RegistrationMonth  NumberOfPictures     PostalCode  \n",
       "count      354369.000000          354369.0  354369.000000  \n",
       "mean            5.714645               0.0   50508.689087  \n",
       "std             3.726421               0.0   25783.096248  \n",
       "min             0.000000               0.0    1067.000000  \n",
       "25%             3.000000               0.0   30165.000000  \n",
       "50%             6.000000               0.0   49413.000000  \n",
       "75%             9.000000               0.0   71083.000000  \n",
       "max            12.000000               0.0   99998.000000  "
      ]
     },
     "execution_count": 5,
     "metadata": {},
     "output_type": "execute_result"
    }
   ],
   "source": [
    "data.describe()"
   ]
  },
  {
   "cell_type": "markdown",
   "metadata": {},
   "source": [
    "Всего в таблице 16 столбцов с типами данных *int64* и *object*\n",
    "\n",
    "Информация, содержащаяся в столбцах:\n",
    "\n",
    "* DateCrawled — дата скачивания анкеты из базы\n",
    "* Price — цена (евро)\n",
    "* VehicleType — тип автомобильного кузова\n",
    "* RegistrationYear — год регистрации автомобиля\n",
    "* Gearbox — тип коробки передач\n",
    "* Power — мощность (л. с.)\n",
    "* Model — модель автомобиля\n",
    "* Kilometer — пробег (км)\n",
    "* RegistrationMonth — месяц регистрации автомобиля\n",
    "* FuelType — тип топлива\n",
    "* Brand — марка автомобиля\n",
    "* NotRepaired — была машина в ремонте или нет\n",
    "* DateCreated — дата создания анкеты\n",
    "* NumberOfPictures — количество фотографий автомобиля\n",
    "* PostalCode — почтовый индекс владельца анкеты (пользователя)\n",
    "* LastSeen — дата последней активности пользователя"
   ]
  },
  {
   "cell_type": "markdown",
   "metadata": {},
   "source": [
    "Посмотрим в каких столбцах имеются пропуски:"
   ]
  },
  {
   "cell_type": "code",
   "execution_count": 6,
   "metadata": {},
   "outputs": [
    {
     "name": "stdout",
     "output_type": "stream",
     "text": [
      "Имеются пропуски в столбцах:\n",
      "VehicleType - 37490 (10.58%)\n",
      "Gearbox - 19833 (5.60%)\n",
      "Model - 19705 (5.56%)\n",
      "FuelType - 32895 (9.28%)\n",
      "NotRepaired - 71154 (20.08%)\n"
     ]
    }
   ],
   "source": [
    "print('Имеются пропуски в столбцах:')\n",
    "for column in data.columns:\n",
    "    count = data[column].isna().sum()\n",
    "    if count > 0:\n",
    "        print(f'{column} - {count} ({count/data.shape[0]:.2%})')"
   ]
  },
  {
   "cell_type": "markdown",
   "metadata": {},
   "source": [
    "Категориальные признаки: VehicleType, Gearbox, Model, FuelType, Brand, NotRepaired, PostalCode"
   ]
  },
  {
   "cell_type": "markdown",
   "metadata": {},
   "source": [
    "Посмотрим какие категории в каждой из этих признаков."
   ]
  },
  {
   "cell_type": "code",
   "execution_count": 7,
   "metadata": {},
   "outputs": [],
   "source": [
    "categorical_features = ['VehicleType', 'Gearbox', 'Model', 'FuelType', 'Brand', 'NotRepaired']"
   ]
  },
  {
   "cell_type": "code",
   "execution_count": 8,
   "metadata": {},
   "outputs": [
    {
     "name": "stdout",
     "output_type": "stream",
     "text": [
      "VehicleType (9):\n",
      "[nan 'coupe' 'suv' 'small' 'sedan' 'convertible' 'bus' 'wagon' 'other']\n",
      "Gearbox (3):\n",
      "['manual' 'auto' nan]\n",
      "Model (251):\n",
      "['golf' nan 'grand' 'fabia' '3er' '2_reihe' 'other' 'c_max' '3_reihe'\n",
      " 'passat' 'navara' 'ka' 'polo' 'twingo' 'a_klasse' 'scirocco' '5er'\n",
      " 'meriva' 'arosa' 'c4' 'civic' 'transporter' 'punto' 'e_klasse' 'clio'\n",
      " 'kadett' 'kangoo' 'corsa' 'one' 'fortwo' '1er' 'b_klasse' 'signum'\n",
      " 'astra' 'a8' 'jetta' 'fiesta' 'c_klasse' 'micra' 'vito' 'sprinter' '156'\n",
      " 'escort' 'forester' 'xc_reihe' 'scenic' 'a4' 'a1' 'insignia' 'combo'\n",
      " 'focus' 'tt' 'a6' 'jazz' 'omega' 'slk' '7er' '80' '147' '100' 'z_reihe'\n",
      " 'sportage' 'sorento' 'v40' 'ibiza' 'mustang' 'eos' 'touran' 'getz' 'a3'\n",
      " 'almera' 'megane' 'lupo' 'r19' 'zafira' 'caddy' 'mondeo' 'cordoba' 'colt'\n",
      " 'impreza' 'vectra' 'berlingo' 'tiguan' 'i_reihe' 'espace' 'sharan'\n",
      " '6_reihe' 'panda' 'up' 'seicento' 'ceed' '5_reihe' 'yeti' 'octavia' 'mii'\n",
      " 'rx_reihe' '6er' 'modus' 'fox' 'matiz' 'beetle' 'c1' 'rio' 'touareg'\n",
      " 'logan' 'spider' 'cuore' 's_max' 'a2' 'galaxy' 'c3' 'viano' 's_klasse'\n",
      " '1_reihe' 'avensis' 'roomster' 'sl' 'kaefer' 'santa' 'cooper' 'leon'\n",
      " '4_reihe' 'a5' '500' 'laguna' 'ptcruiser' 'clk' 'primera' 'x_reihe'\n",
      " 'exeo' '159' 'transit' 'juke' 'qashqai' 'carisma' 'accord' 'corolla'\n",
      " 'lanos' 'phaeton' 'verso' 'swift' 'rav' 'picanto' 'boxster' 'kalos'\n",
      " 'superb' 'stilo' 'alhambra' 'mx_reihe' 'roadster' 'ypsilon' 'cayenne'\n",
      " 'galant' 'justy' '90' 'sirion' 'crossfire' 'agila' 'duster' 'cr_reihe'\n",
      " 'v50' 'c_reihe' 'v_klasse' 'm_klasse' 'yaris' 'c5' 'aygo' 'cc' 'carnival'\n",
      " 'fusion' '911' 'bora' 'forfour' 'm_reihe' 'cl' 'tigra' '300c' 'spark'\n",
      " 'v70' 'kuga' 'x_type' 'ducato' 's_type' 'x_trail' 'toledo' 'altea'\n",
      " 'voyager' 'calibra' 'bravo' 'antara' 'tucson' 'citigo' 'jimny' 'wrangler'\n",
      " 'lybra' 'q7' 'lancer' 'captiva' 'c2' 'discovery' 'freelander' 'sandero'\n",
      " 'note' '900' 'cherokee' 'clubman' 'samara' 'defender' '601' 'cx_reihe'\n",
      " 'legacy' 'pajero' 'auris' 'niva' 's60' 'nubira' 'vivaro' 'g_klasse'\n",
      " 'lodgy' '850' 'range_rover' 'q3' 'serie_2' 'glk' 'charade' 'croma'\n",
      " 'outlander' 'doblo' 'musa' 'move' '9000' 'v60' '145' 'aveo' '200' 'b_max'\n",
      " 'range_rover_sport' 'terios' 'rangerover' 'q5' 'range_rover_evoque'\n",
      " 'materia' 'delta' 'gl' 'kalina' 'amarok' 'elefantino' 'i3' 'kappa'\n",
      " 'serie_3' 'serie_1']\n",
      "FuelType (8):\n",
      "['petrol' 'gasoline' nan 'lpg' 'other' 'hybrid' 'cng' 'electric']\n",
      "Brand (40):\n",
      "['volkswagen' 'audi' 'jeep' 'skoda' 'bmw' 'peugeot' 'ford' 'mazda'\n",
      " 'nissan' 'renault' 'mercedes_benz' 'opel' 'seat' 'citroen' 'honda' 'fiat'\n",
      " 'mini' 'smart' 'hyundai' 'sonstige_autos' 'alfa_romeo' 'subaru' 'volvo'\n",
      " 'mitsubishi' 'kia' 'suzuki' 'lancia' 'toyota' 'chevrolet' 'dacia'\n",
      " 'daihatsu' 'trabant' 'saab' 'chrysler' 'jaguar' 'daewoo' 'porsche'\n",
      " 'rover' 'land_rover' 'lada']\n",
      "NotRepaired (3):\n",
      "[nan 'yes' 'no']\n"
     ]
    }
   ],
   "source": [
    "for column in categorical_features:\n",
    "    values = data[column].unique()\n",
    "    print(f'{column} ({len(values)}):')\n",
    "    print(values)"
   ]
  },
  {
   "cell_type": "markdown",
   "metadata": {},
   "source": [
    "Численные признаки: Price, RegistrationYear, Power, Kilometer, RegistrationMonth, NumberOfPictures"
   ]
  },
  {
   "cell_type": "markdown",
   "metadata": {},
   "source": [
    "Посмотрим распределение этих признаков."
   ]
  },
  {
   "cell_type": "code",
   "execution_count": 9,
   "metadata": {},
   "outputs": [],
   "source": [
    "def build_hist(series, title='', xlabel='', bins=50, figsize=(12, 8)):\n",
    "    fig = plt.figure(figsize=figsize, dpi= 80, facecolor='w', edgecolor='k')\n",
    "    ax = fig.add_subplot()\n",
    "    series.hist(bins=bins)\n",
    "    #sns.histplot(series, bins=bins, kde=True, color='red')\n",
    "    ax.grid()\n",
    "    plt.gca().set(xlabel=xlabel, ylabel='Частота')\n",
    "    plt.xticks(fontsize=12); plt.yticks(fontsize=12)\n",
    "    plt.title(title, fontsize=16)\n",
    "    plt.show()"
   ]
  },
  {
   "cell_type": "code",
   "execution_count": 10,
   "metadata": {},
   "outputs": [],
   "source": [
    "numerical_features = ['Price', 'RegistrationYear', 'Power', 'Kilometer', 'NumberOfPictures', 'PostalCode']"
   ]
  },
  {
   "cell_type": "code",
   "execution_count": 11,
   "metadata": {},
   "outputs": [
    {
     "data": {
      "image/png": "[encoded data removed]",
      "text/plain": [
       "<Figure size 960x640 with 1 Axes>"
      ]
     },
     "metadata": {},
     "output_type": "display_data"
    },
    {
     "data": {
      "image/png": "[encoded data removed]",
      "text/plain": [
       "<Figure size 960x640 with 1 Axes>"
      ]
     },
     "metadata": {},
     "output_type": "display_data"
    },
    {
     "data": {
      "image/png": "[encoded data removed]",
      "text/plain": [
       "<Figure size 960x640 with 1 Axes>"
      ]
     },
     "metadata": {},
     "output_type": "display_data"
    },
    {
     "data": {
      "image/png": "[encoded data removed]",
      "text/plain": [
       "<Figure size 960x640 with 1 Axes>"
      ]
     },
     "metadata": {},
     "output_type": "display_data"
    },
    {
     "data": {
      "image/png": "[encoded data removed]",
      "text/plain": [
       "<Figure size 960x640 with 1 Axes>"
      ]
     },
     "metadata": {},
     "output_type": "display_data"
    },
    {
     "data": {
      "image/png": "[encoded data removed]",
      "text/plain": [
       "<Figure size 960x640 with 1 Axes>"
      ]
     },
     "metadata": {},
     "output_type": "display_data"
    }
   ],
   "source": [
    "for column in numerical_features:\n",
    "    build_hist(data[column], title=column)"
   ]
  },
  {
   "cell_type": "markdown",
   "metadata": {},
   "source": [
    "В столбце *RegistrationYear* есть явные выбросы и от них надо избавиться."
   ]
  },
  {
   "cell_type": "markdown",
   "metadata": {},
   "source": [
    "В столбце *Power* тоже есть явное преувеличение мощности автомобилей."
   ]
  },
  {
   "cell_type": "markdown",
   "metadata": {},
   "source": [
    "Столбец *NumberOfPictures* бессмысленен, так как в нём одни нули."
   ]
  },
  {
   "cell_type": "markdown",
   "metadata": {},
   "source": [
    "Признак *PostalCode — почтовый индекс владельца анкеты (пользователя)*  думаю не имеет никакого отношения к автомобилю, если только косвенно указывать на "
   ]
  },
  {
   "cell_type": "markdown",
   "metadata": {},
   "source": [
    "Проанализируем остальные признаки:"
   ]
  },
  {
   "cell_type": "markdown",
   "metadata": {},
   "source": [
    "* DateCrawled (дата скачивания анкеты из базы) - не имеет смысла с точки зрения обучения модели, так как никак не характеризует автомобиль."
   ]
  },
  {
   "cell_type": "markdown",
   "metadata": {},
   "source": [
    "* DateCreated (дата создания анкеты) - данный параметр имеет смысл превратить в разницу между годом создания анкеты и годом регистрации автомобиля, но только если все анкеты не были сделаны в один год. Кроме того, этот параметр поможет бороться с выбросами в столбце RegistrationMonth."
   ]
  },
  {
   "cell_type": "markdown",
   "metadata": {},
   "source": [
    "* LastSeen (дата последней активности пользователя) - не имеет смысла, так как для нового клиента это значение отсуствует."
   ]
  },
  {
   "cell_type": "markdown",
   "metadata": {},
   "source": [
    "* RegistrationMonth (месяц регистрации автомобиля) - точно не имеет смысла для предсказания его стоимости на вторичном рынке."
   ]
  },
  {
   "cell_type": "markdown",
   "metadata": {},
   "source": [
    "Из анализа полученных данных можно сделать вывод по пунктам их дальнейшей подготовки:\n",
    " - избавиться от ненужных столбцов: *DateCrawled, LastSeen и NumberOfPictures, RegistrationMonth*.\n",
    " - избавиться от выбросов в столбцах RegistrationYear и Power\n",
    " - преобразовать столбец *DateCreated* в *AutoAge*\n",
    " - избавиться от пропусков"
   ]
  },
  {
   "cell_type": "markdown",
   "metadata": {},
   "source": [
    "<a id='9.3-bullet'></a> \n",
    "### 3. Подготовка данных. "
   ]
  },
  {
   "cell_type": "markdown",
   "metadata": {},
   "source": [
    "В данном пункте мы зделаем преобразования описанные в предыдущем пункте."
   ]
  },
  {
   "cell_type": "markdown",
   "metadata": {},
   "source": [
    "#### - избавимся от ненужных столбцов: *DateCrawled, LastSeen и NumberOfPictures*"
   ]
  },
  {
   "cell_type": "code",
   "execution_count": 12,
   "metadata": {},
   "outputs": [],
   "source": [
    "data = data.drop(['DateCrawled', 'LastSeen', 'NumberOfPictures', 'RegistrationMonth'], axis=1)"
   ]
  },
  {
   "cell_type": "code",
   "execution_count": 13,
   "metadata": {},
   "outputs": [
    {
     "data": {
      "text/html": [
       "<div>\n",
       "<style scoped>\n",
       "    .dataframe tbody tr th:only-of-type {\n",
       "        vertical-align: middle;\n",
       "    }\n",
       "\n",
       "    .dataframe tbody tr th {\n",
       "        vertical-align: top;\n",
       "    }\n",
       "\n",
       "    .dataframe thead th {\n",
       "        text-align: right;\n",
       "    }\n",
       "</style>\n",
       "<table border=\"1\" class=\"dataframe\">\n",
       "  <thead>\n",
       "    <tr style=\"text-align: right;\">\n",
       "      <th></th>\n",
       "      <th>Price</th>\n",
       "      <th>VehicleType</th>\n",
       "      <th>RegistrationYear</th>\n",
       "      <th>Gearbox</th>\n",
       "      <th>Power</th>\n",
       "      <th>Model</th>\n",
       "      <th>Kilometer</th>\n",
       "      <th>FuelType</th>\n",
       "      <th>Brand</th>\n",
       "      <th>NotRepaired</th>\n",
       "      <th>DateCreated</th>\n",
       "      <th>PostalCode</th>\n",
       "    </tr>\n",
       "  </thead>\n",
       "  <tbody>\n",
       "    <tr>\n",
       "      <th>0</th>\n",
       "      <td>480</td>\n",
       "      <td>NaN</td>\n",
       "      <td>1993</td>\n",
       "      <td>manual</td>\n",
       "      <td>0</td>\n",
       "      <td>golf</td>\n",
       "      <td>150000</td>\n",
       "      <td>petrol</td>\n",
       "      <td>volkswagen</td>\n",
       "      <td>NaN</td>\n",
       "      <td>2016-03-24 00:00:00</td>\n",
       "      <td>70435</td>\n",
       "    </tr>\n",
       "  </tbody>\n",
       "</table>\n",
       "</div>"
      ],
      "text/plain": [
       "   Price VehicleType  RegistrationYear Gearbox  Power Model  Kilometer  \\\n",
       "0    480         NaN              1993  manual      0  golf     150000   \n",
       "\n",
       "  FuelType       Brand NotRepaired          DateCreated  PostalCode  \n",
       "0   petrol  volkswagen         NaN  2016-03-24 00:00:00       70435  "
      ]
     },
     "metadata": {},
     "output_type": "display_data"
    }
   ],
   "source": [
    "display(data.head(1))"
   ]
  },
  {
   "cell_type": "markdown",
   "metadata": {},
   "source": [
    "#### - избавимся от выбросов в столбце RegistrationYear"
   ]
  },
  {
   "cell_type": "markdown",
   "metadata": {},
   "source": [
    "Для этого, в первую очередь, посмотрим на то какие значения этого признака встречаются в выборке."
   ]
  },
  {
   "cell_type": "code",
   "execution_count": 14,
   "metadata": {},
   "outputs": [
    {
     "data": {
      "text/plain": [
       "array([1000, 1001, 1039, 1111, 1200, 1234, 1253, 1255, 1300, 1400, 1500,\n",
       "       1600, 1602, 1688, 1800, 1910, 1915, 1919, 1920, 1923, 1925, 1927,\n",
       "       1928, 1929, 1930, 1931, 1932, 1933, 1934, 1935, 1936, 1937, 1938,\n",
       "       1940, 1941, 1942, 1943, 1944, 1945, 1946, 1947, 1948, 1949, 1950,\n",
       "       1951, 1952, 1953, 1954, 1955, 1956, 1957, 1958, 1959, 1960, 1961,\n",
       "       1962, 1963, 1964, 1965, 1966, 1967, 1968, 1969, 1970, 1971, 1972,\n",
       "       1973, 1974, 1975, 1976, 1977, 1978, 1979, 1980, 1981, 1982, 1983,\n",
       "       1984, 1985, 1986, 1987, 1988, 1989, 1990, 1991, 1992, 1993, 1994,\n",
       "       1995, 1996, 1997, 1998, 1999, 2000, 2001, 2002, 2003, 2004, 2005,\n",
       "       2006, 2007, 2008, 2009, 2010, 2011, 2012, 2013, 2014, 2015, 2016,\n",
       "       2017, 2018, 2019, 2066, 2200, 2222, 2290, 2500, 2800, 2900, 3000,\n",
       "       3200, 3500, 3700, 3800, 4000, 4100, 4500, 4800, 5000, 5300, 5555,\n",
       "       5600, 5900, 5911, 6000, 6500, 7000, 7100, 7500, 7800, 8000, 8200,\n",
       "       8455, 8500, 8888, 9000, 9229, 9450, 9996, 9999], dtype=int64)"
      ]
     },
     "execution_count": 14,
     "metadata": {},
     "output_type": "execute_result"
    }
   ],
   "source": [
    "data['RegistrationYear'].sort_values().unique()"
   ]
  },
  {
   "cell_type": "markdown",
   "metadata": {},
   "source": [
    "Думаю что верхний предел можно обозначить для каждого объявления как DateCreated (дата создания анкеты), а вот нижний предел начать с 1910 года. Раритеты могут встречаться. Посмотрим сколько объявлений окажется за пределами этих рамок."
   ]
  },
  {
   "cell_type": "code",
   "execution_count": 15,
   "metadata": {},
   "outputs": [
    {
     "name": "stdout",
     "output_type": "stream",
     "text": [
      "Нереальные года - 14596 (4.12%)\n"
     ]
    }
   ],
   "source": [
    "count = data[(data.RegistrationYear < 1910) | \n",
    "     (data.RegistrationYear > pd.to_datetime(data['DateCreated'], format='%Y-%m-%d').dt.year)].DateCreated.count()\n",
    "print(f'Нереальные года - {count} ({count/data.shape[0]:.2%})')"
   ]
  },
  {
   "cell_type": "markdown",
   "metadata": {},
   "source": [
    "Так как год производства автомобиля имеет большое значение, а подбирать год даже опираясь на модель очень проблематично (многие модели выходят по многу лет в различных рестайлингах), то лучше удалить объекты с неадекватным годом регистрации автомобиля."
   ]
  },
  {
   "cell_type": "code",
   "execution_count": 16,
   "metadata": {},
   "outputs": [],
   "source": [
    "data = data.drop(data[(data.RegistrationYear < 1910) | \n",
    "     (data.RegistrationYear > pd.to_datetime(data['DateCreated'], format='%Y-%m-%d').dt.year)].index)"
   ]
  },
  {
   "cell_type": "markdown",
   "metadata": {},
   "source": [
    "Посмотрим новое распределение по годам регистрации автомобиля:"
   ]
  },
  {
   "cell_type": "code",
   "execution_count": 17,
   "metadata": {},
   "outputs": [
    {
     "data": {
      "image/png": "[encoded data removed]",
      "text/plain": [
       "<Figure size 960x640 with 1 Axes>"
      ]
     },
     "metadata": {},
     "output_type": "display_data"
    }
   ],
   "source": [
    "build_hist(data.RegistrationYear, title='Распределение по годам регистрации автомобиля', xlabel='Год регистрации автомобиля')"
   ]
  },
  {
   "cell_type": "markdown",
   "metadata": {},
   "source": [
    "Ящик с усами поможет отбросить выбросы слева."
   ]
  },
  {
   "cell_type": "code",
   "execution_count": 18,
   "metadata": {},
   "outputs": [],
   "source": [
    "def plot_show(xlabel, ylabel, title):\n",
    "    plt.gca().set(xlabel=xlabel, ylabel=ylabel)\n",
    "    plt.xticks(fontsize=12); plt.yticks(fontsize=12)\n",
    "    plt.title(title, fontsize=16)\n",
    "    plt.show()\n",
    "\n",
    "def build_boxplot(df, x=None, y=None, xlabel='', ylabel='', title='', xlim=None):\n",
    "    fig = plt.figure(figsize=(12, 8), dpi= 80, facecolor='w', edgecolor='k')\n",
    "    ax = fig.add_subplot()\n",
    "    sns.violinplot(data=df, orient='horizontal')\n",
    "    plt.xlim(xlim)\n",
    "    ax.grid()\n",
    "    plot_show(xlabel, ylabel, title)"
   ]
  },
  {
   "cell_type": "code",
   "execution_count": 19,
   "metadata": {},
   "outputs": [
    {
     "data": {
      "image/png": "[encoded data removed]",
      "text/plain": [
       "<Figure size 960x640 with 1 Axes>"
      ]
     },
     "metadata": {},
     "output_type": "display_data"
    }
   ],
   "source": [
    "build_boxplot(data[['RegistrationYear']])"
   ]
  },
  {
   "cell_type": "markdown",
   "metadata": {},
   "source": [
    "Хоть график и говорит о том что до 1980 года можно считать выбросами, но всё же оставим всё с датой регистрации после 1960 года. Всё же их после этого года заметно больше чем до. Посмотрим сколько их:"
   ]
  },
  {
   "cell_type": "code",
   "execution_count": 20,
   "metadata": {},
   "outputs": [
    {
     "name": "stdout",
     "output_type": "stream",
     "text": [
      "Года регистрации до 1960 - 356 (0.10%)\n"
     ]
    }
   ],
   "source": [
    "count = data[(data.RegistrationYear < 1960)].DateCreated.count()\n",
    "print(f'Года регистрации до 1960 - {count} ({count/data.shape[0]:.2%})')"
   ]
  },
  {
   "cell_type": "markdown",
   "metadata": {},
   "source": [
    "Ещё 0.1%. Не думаю что стоит ради этого их оставлять."
   ]
  },
  {
   "cell_type": "code",
   "execution_count": 21,
   "metadata": {},
   "outputs": [],
   "source": [
    "data = data.drop(data[(data.RegistrationYear < 1960)].index)"
   ]
  },
  {
   "cell_type": "markdown",
   "metadata": {},
   "source": [
    "Итоговое распределение:"
   ]
  },
  {
   "cell_type": "code",
   "execution_count": 22,
   "metadata": {},
   "outputs": [
    {
     "data": {
      "image/png": "[encoded data removed]",
      "text/plain": [
       "<Figure size 960x640 with 1 Axes>"
      ]
     },
     "metadata": {},
     "output_type": "display_data"
    }
   ],
   "source": [
    "build_hist(data.RegistrationYear, title='Распределение по годам регистрации автомобиля', xlabel='Год регистрации автомобиля')"
   ]
  },
  {
   "cell_type": "markdown",
   "metadata": {},
   "source": [
    "Распределение назовём **\"рок-н-ролл жив\"** :)"
   ]
  },
  {
   "cell_type": "markdown",
   "metadata": {},
   "source": [
    "#### - избавимся от выбросов в столбце Power"
   ]
  },
  {
   "cell_type": "markdown",
   "metadata": {},
   "source": [
    "Так как мы заранее не можем знать в каких пределах варьировалась мощность двигателя у той или иной модели, то задачу разделим на 2 этапа:\n",
    "- Разобьём на модели\n",
    "- Посчитаем квартили и найдём максимальное и минимальное значение внутри отрезка $[Q1 - 1.5*IRQ - 1; Q3 + 1.5*IRQ + 1]$.\n",
    "- Перенесём всё что выше к найденному максимуму, а всё что ниже к найденному минимуму."
   ]
  },
  {
   "cell_type": "markdown",
   "metadata": {},
   "source": [
    "Перед тем как это делать. Разберёмся с пропусками в столбце *Model*. У нас среди названий моделей присутствует *other*, посмотрим с какими марками такай \"модель\" встречается."
   ]
  },
  {
   "cell_type": "code",
   "execution_count": 23,
   "metadata": {},
   "outputs": [
    {
     "name": "stdout",
     "output_type": "stream",
     "text": [
      "['volkswagen' 'mercedes_benz' 'hyundai' 'honda' 'mitsubishi' 'opel' 'fiat'\n",
      " 'suzuki' 'lancia' 'mazda' 'nissan' 'toyota' 'chevrolet' 'renault'\n",
      " 'peugeot' 'kia' 'citroen' 'ford' 'chrysler' 'bmw' 'audi' 'jaguar' 'skoda'\n",
      " 'porsche' 'rover' 'smart' 'saab' 'alfa_romeo' 'mini' 'seat' 'volvo'\n",
      " 'trabant' 'lada' 'daewoo' 'jeep' 'daihatsu' 'subaru' 'dacia' 'land_rover']\n"
     ]
    }
   ],
   "source": [
    "print(data[data.Model == 'other'].Brand.unique())"
   ]
  },
  {
   "cell_type": "markdown",
   "metadata": {},
   "source": [
    "Во многих брендах встречаетс \"модель\" other, Значит все пропуски в столбце *Model* заменим на *other* вне зависимости от марки авто."
   ]
  },
  {
   "cell_type": "code",
   "execution_count": 24,
   "metadata": {},
   "outputs": [],
   "source": [
    "data.Model = data.Model.fillna('other')"
   ]
  },
  {
   "cell_type": "markdown",
   "metadata": {},
   "source": [
    "В алгоритм избавления от выбросов в столбце Power добавим момент, что если модель other и Power выходит за указанные выше пределы для марки автомобиля, то удаляем такую запись. Потому что запись без модели с непонятной мощностью двигателя это что-то странное."
   ]
  },
  {
   "cell_type": "code",
   "execution_count": 25,
   "metadata": {},
   "outputs": [],
   "source": [
    "def get_true_powers(powers):\n",
    "    Q1 = powers.describe()['25%']\n",
    "    Q3 = powers.describe()['75%']\n",
    "    return powers[(powers > 0) & \n",
    "                  (powers > Q1 - 1.5 * (Q3 - Q1) - 1) & \n",
    "                  (powers < Q3 + 1.5 * (Q3 - Q1) + 1)]\n",
    "    \n",
    "def remove_invalid_others(df):\n",
    "    df1 = df.copy()\n",
    "    for brand in df1.Brand.unique():\n",
    "        true_powers = get_true_powers(df1[df1.Brand == brand].Power)\n",
    "        df1 = df1.drop(df1[(df1.Brand == brand) & (df1.Model == 'other') & ((df1.Power < true_powers.min()) | (df1.Power > true_powers.max()))].index)\n",
    "    return df1\n",
    "    \n",
    "def correction_power(df):\n",
    "    models_powers = {}\n",
    "   \n",
    "    def get_true_power(row):\n",
    "        result = min(max(row.Power, models_powers[row.Model]['min']), models_powers[row.Model]['max'])\n",
    "        return result\n",
    "    \n",
    "    for model in df.Model.unique():\n",
    "        models_powers[model] = {}\n",
    "        true_powers = get_true_powers(df[df.Model == model].Power)\n",
    "        models_powers[model]['min'] = true_powers.min()\n",
    "        models_powers[model]['max'] = true_powers.max()\n",
    "        \n",
    "    return df.apply(get_true_power, axis=1) "
   ]
  },
  {
   "cell_type": "markdown",
   "metadata": {},
   "source": [
    "Сначала дропнем все other-модели с непонятной мощностью, которая находится в зоне выбросов для бренда."
   ]
  },
  {
   "cell_type": "code",
   "execution_count": 26,
   "metadata": {},
   "outputs": [],
   "source": [
    "data = remove_invalid_others(data)"
   ]
  },
  {
   "cell_type": "markdown",
   "metadata": {},
   "source": [
    "Скорректируем мощности для каждой модели"
   ]
  },
  {
   "cell_type": "code",
   "execution_count": 27,
   "metadata": {},
   "outputs": [],
   "source": [
    "data.Power = correction_power(data) "
   ]
  },
  {
   "cell_type": "markdown",
   "metadata": {},
   "source": [
    "Посмотрим на распределение мощностей"
   ]
  },
  {
   "cell_type": "code",
   "execution_count": 28,
   "metadata": {},
   "outputs": [
    {
     "data": {
      "image/png": "[encoded data removed]",
      "text/plain": [
       "<Figure size 960x640 with 1 Axes>"
      ]
     },
     "metadata": {},
     "output_type": "display_data"
    }
   ],
   "source": [
    "build_hist(correction_power(data), title='Распределение мощностей', xlabel='Мощность (л.с)')"
   ]
  },
  {
   "cell_type": "markdown",
   "metadata": {},
   "source": [
    "Если остались нули, значит модель встречалась только с нулевой мощностью. Если такие есть, то их надо убрать."
   ]
  },
  {
   "cell_type": "code",
   "execution_count": 29,
   "metadata": {},
   "outputs": [
    {
     "data": {
      "text/html": [
       "<div>\n",
       "<style scoped>\n",
       "    .dataframe tbody tr th:only-of-type {\n",
       "        vertical-align: middle;\n",
       "    }\n",
       "\n",
       "    .dataframe tbody tr th {\n",
       "        vertical-align: top;\n",
       "    }\n",
       "\n",
       "    .dataframe thead th {\n",
       "        text-align: right;\n",
       "    }\n",
       "</style>\n",
       "<table border=\"1\" class=\"dataframe\">\n",
       "  <thead>\n",
       "    <tr style=\"text-align: right;\">\n",
       "      <th></th>\n",
       "      <th>Price</th>\n",
       "      <th>VehicleType</th>\n",
       "      <th>RegistrationYear</th>\n",
       "      <th>Gearbox</th>\n",
       "      <th>Power</th>\n",
       "      <th>Model</th>\n",
       "      <th>Kilometer</th>\n",
       "      <th>FuelType</th>\n",
       "      <th>Brand</th>\n",
       "      <th>NotRepaired</th>\n",
       "      <th>DateCreated</th>\n",
       "      <th>PostalCode</th>\n",
       "    </tr>\n",
       "  </thead>\n",
       "  <tbody>\n",
       "    <tr>\n",
       "      <th>234296</th>\n",
       "      <td>3800</td>\n",
       "      <td>wagon</td>\n",
       "      <td>1978</td>\n",
       "      <td>manual</td>\n",
       "      <td>0</td>\n",
       "      <td>serie_1</td>\n",
       "      <td>30000</td>\n",
       "      <td>gasoline</td>\n",
       "      <td>land_rover</td>\n",
       "      <td>NaN</td>\n",
       "      <td>2016-03-30 00:00:00</td>\n",
       "      <td>49824</td>\n",
       "    </tr>\n",
       "    <tr>\n",
       "      <th>280216</th>\n",
       "      <td>0</td>\n",
       "      <td>NaN</td>\n",
       "      <td>1970</td>\n",
       "      <td>NaN</td>\n",
       "      <td>0</td>\n",
       "      <td>serie_1</td>\n",
       "      <td>100000</td>\n",
       "      <td>petrol</td>\n",
       "      <td>land_rover</td>\n",
       "      <td>NaN</td>\n",
       "      <td>2016-04-02 00:00:00</td>\n",
       "      <td>88634</td>\n",
       "    </tr>\n",
       "  </tbody>\n",
       "</table>\n",
       "</div>"
      ],
      "text/plain": [
       "        Price VehicleType  RegistrationYear Gearbox  Power    Model  \\\n",
       "234296   3800       wagon              1978  manual      0  serie_1   \n",
       "280216      0         NaN              1970     NaN      0  serie_1   \n",
       "\n",
       "        Kilometer  FuelType       Brand NotRepaired          DateCreated  \\\n",
       "234296      30000  gasoline  land_rover         NaN  2016-03-30 00:00:00   \n",
       "280216     100000    petrol  land_rover         NaN  2016-04-02 00:00:00   \n",
       "\n",
       "        PostalCode  \n",
       "234296       49824  \n",
       "280216       88634  "
      ]
     },
     "metadata": {},
     "output_type": "display_data"
    },
    {
     "data": {
      "text/html": [
       "<div>\n",
       "<style scoped>\n",
       "    .dataframe tbody tr th:only-of-type {\n",
       "        vertical-align: middle;\n",
       "    }\n",
       "\n",
       "    .dataframe tbody tr th {\n",
       "        vertical-align: top;\n",
       "    }\n",
       "\n",
       "    .dataframe thead th {\n",
       "        text-align: right;\n",
       "    }\n",
       "</style>\n",
       "<table border=\"1\" class=\"dataframe\">\n",
       "  <thead>\n",
       "    <tr style=\"text-align: right;\">\n",
       "      <th></th>\n",
       "      <th></th>\n",
       "      <th>Power</th>\n",
       "    </tr>\n",
       "    <tr>\n",
       "      <th>Brand</th>\n",
       "      <th>Model</th>\n",
       "      <th></th>\n",
       "    </tr>\n",
       "  </thead>\n",
       "  <tbody>\n",
       "    <tr>\n",
       "      <th>land_rover</th>\n",
       "      <th>serie_1</th>\n",
       "      <td>2</td>\n",
       "    </tr>\n",
       "  </tbody>\n",
       "</table>\n",
       "</div>"
      ],
      "text/plain": [
       "                    Power\n",
       "Brand      Model         \n",
       "land_rover serie_1      2"
      ]
     },
     "execution_count": 29,
     "metadata": {},
     "output_type": "execute_result"
    }
   ],
   "source": [
    "display(data[data.Power == 0])\n",
    "data[data.Power == 0].pivot_table(index=['Brand', 'Model'], values='Power', aggfunc='count')"
   ]
  },
  {
   "cell_type": "markdown",
   "metadata": {},
   "source": [
    "Land Rover serie 1. Всего 2 штуки. Удалим их."
   ]
  },
  {
   "cell_type": "code",
   "execution_count": 30,
   "metadata": {},
   "outputs": [],
   "source": [
    "data = data.drop(data[data.Power == 0].index)"
   ]
  },
  {
   "cell_type": "markdown",
   "metadata": {},
   "source": [
    "#### - преобразуем столбец *DateCreated* в *AutoAge*"
   ]
  },
  {
   "cell_type": "code",
   "execution_count": 31,
   "metadata": {},
   "outputs": [],
   "source": [
    "data['AutoAge'] = pd.DatetimeIndex(pd.to_datetime(data.DateCreated, format='%Y-%m-%d')).year - data.RegistrationYear"
   ]
  },
  {
   "cell_type": "code",
   "execution_count": 32,
   "metadata": {},
   "outputs": [],
   "source": [
    "data = data.drop(['DateCreated'], axis=1)"
   ]
  },
  {
   "cell_type": "markdown",
   "metadata": {},
   "source": [
    "#### - избавимся от пропусков в столбцах VehicleType, Gearbox, FuelType, NotRepaired."
   ]
  },
  {
   "cell_type": "markdown",
   "metadata": {},
   "source": [
    "**VehicleType (тип кузова)** имеет вариант 'other'. Заменим все пропуски на это значение. По сути это одно и то же."
   ]
  },
  {
   "cell_type": "code",
   "execution_count": 33,
   "metadata": {},
   "outputs": [],
   "source": [
    "data.VehicleType = data.VehicleType.fillna('other')"
   ]
  },
  {
   "cell_type": "markdown",
   "metadata": {},
   "source": [
    "Посмотрим какие модели встречаются с кузовом \"other\":"
   ]
  },
  {
   "cell_type": "code",
   "execution_count": 34,
   "metadata": {},
   "outputs": [
    {
     "data": {
      "text/plain": [
       "array(['golf', 'polo', 'clio', 'kadett', 'kangoo', 'other', 'corsa',\n",
       "       '5er', 'vito', 'astra', 'ka', 'insignia', 'civic', '3er', '100',\n",
       "       'punto', 'fabia', 'almera', 'caddy', 'fiesta', 'jazz', 'modus',\n",
       "       'c1', 'fox', 'c_max', '2_reihe', 'combo', '1er', 'galaxy',\n",
       "       'transporter', 'zafira', 'qashqai', 'twingo', 'lanos', 'megane',\n",
       "       'i_reihe', 'b_klasse', 'leon', 'vectra', 'touran', 'transit',\n",
       "       'meriva', 'rx_reihe', 'carnival', 'fusion', 'ibiza', 'a3',\n",
       "       'cordoba', 'mondeo', 'sharan', 'v70', 'e_klasse', 'c_reihe',\n",
       "       'escort', 'kaefer', 'a6', 'a_klasse', 'calibra', 'clk', 'sprinter',\n",
       "       'slk', 'ptcruiser', 'espace', '4_reihe', 'fortwo', 'matiz',\n",
       "       'passat', 'scirocco', 'berlingo', 'a4', 'primera', 'c_klasse',\n",
       "       'freelander', 'focus', 'tigra', 'samara', 'scenic', 'agila',\n",
       "       'swift', 'jetta', 'auris', '500', 'avensis', 'mx_reihe', 'v40',\n",
       "       '3_reihe', 'aygo', 's_max', 'ducato', 'q7', 'stilo', '6_reihe',\n",
       "       'lupo', 'omega', 'rio', 'accord', 'octavia', 'grand', 'laguna',\n",
       "       '601', 'mustang', 'niva', 'v_klasse', 'serie_2', '911', 'roadster',\n",
       "       'cuore', 'tt', '80', 'cooper', 'arosa', 'ceed', 'lancer',\n",
       "       's_klasse', 'alhambra', 'forester', 'toledo', 'micra', '7er',\n",
       "       'picanto', 'vivaro', 'bora', 'doblo', 'bravo', 'cr_reihe', '145',\n",
       "       'one', 'yaris', 'beetle', 'colt', '1_reihe', 'altea', 'roomster',\n",
       "       'g_klasse', 'carisma', 'a5', 'jimny', 'impreza', 'spider',\n",
       "       'tiguan', 'superb', 'c2', '5_reihe', 'x_type', 'seicento', '156',\n",
       "       'signum', 'rav', 'a2', 'sandero', 'm_reihe', 'justy', 'c3', '300c',\n",
       "       'ypsilon', 'voyager', 'r19', 'verso', 'getz', 'boxster', 'up',\n",
       "       'm_klasse', '850', 'duster', 'cl', '900', '90', 'galant', 'juke',\n",
       "       'tucson', 'delta', 'sl', 'forfour', 'c5', '147', 'phaeton',\n",
       "       'z_reihe', 'santa', 'a1', 'a8', 'sorento', 'x_reihe', 'c4', 'aveo',\n",
       "       'charade', 'defender', 'panda', 'kuga', 'corolla', 'sirion', '6er',\n",
       "       'pajero', 'move', 'touareg', '159', 'outlander', 'yeti',\n",
       "       'cherokee', 'glk', 'navara', 'logan', 'nubira', 'spark',\n",
       "       'sportage', 'range_rover', 'cayenne', 'legacy', 'captiva', 'cc',\n",
       "       'citigo', 'viano', 'terios', 'cx_reihe', 'rangerover', 'xc_reihe',\n",
       "       'antara', 'note', 'kappa', 'x_trail', 'serie_3', 'eos', 'musa',\n",
       "       'i3', 'v50', 'crossfire', 's_type', 'lybra', 'wrangler', 'b_max',\n",
       "       'kalos', '200', 'amarok', 'materia', 'croma', 'q3', 'clubman'],\n",
       "      dtype=object)"
      ]
     },
     "execution_count": 34,
     "metadata": {},
     "output_type": "execute_result"
    }
   ],
   "source": [
    "data[data.VehicleType == 'other'].Model.unique()"
   ]
  },
  {
   "cell_type": "markdown",
   "metadata": {},
   "source": [
    "Опять модель \"other\". Думаю такие модели с неизвестным кузовом стоит исключить из выборки."
   ]
  },
  {
   "cell_type": "code",
   "execution_count": 35,
   "metadata": {},
   "outputs": [],
   "source": [
    "data = data.drop(data[(data.VehicleType == 'other') & (data.Model == 'other')].index)"
   ]
  },
  {
   "cell_type": "markdown",
   "metadata": {},
   "source": [
    "**Gearbox (тип коробки передач)** - думаю что пропуски это механика, как классический вариант коробки."
   ]
  },
  {
   "cell_type": "code",
   "execution_count": 36,
   "metadata": {},
   "outputs": [],
   "source": [
    "data.Gearbox = data.Gearbox.fillna('manual')"
   ]
  },
  {
   "cell_type": "markdown",
   "metadata": {},
   "source": [
    "**FuelType** имеет вариант \"other\", на него пропуски и заменим."
   ]
  },
  {
   "cell_type": "code",
   "execution_count": 37,
   "metadata": {},
   "outputs": [],
   "source": [
    "data.FuelType = data.FuelType.fillna('other')"
   ]
  },
  {
   "cell_type": "markdown",
   "metadata": {},
   "source": [
    "Удалим записи где и FuelType = 'other' и один из параметров (Model или VehicleType) тоже имеет значение 'other', чтобы сократить количество неопределённых параметров в одном объекти до максимум одного."
   ]
  },
  {
   "cell_type": "code",
   "execution_count": 38,
   "metadata": {},
   "outputs": [],
   "source": [
    "data = data.drop(data[(data.FuelType == data.VehicleType) | (data.FuelType == data.Model)].index)"
   ]
  },
  {
   "cell_type": "markdown",
   "metadata": {},
   "source": [
    "**NotRepaired (была машина в ремонте или нет)**. Думаю пропуск может говорить о том что машина не была в ремонте. В любом случае, в этом параметре мы можем рассчитывать только на честность продавца, а нет и пропук это со стороны продавца - нет."
   ]
  },
  {
   "cell_type": "code",
   "execution_count": 39,
   "metadata": {},
   "outputs": [],
   "source": [
    "data.NotRepaired = data.NotRepaired.fillna('no')"
   ]
  },
  {
   "cell_type": "markdown",
   "metadata": {},
   "source": [
    "Посмотрим что стал из себя представлять датафрейм:"
   ]
  },
  {
   "cell_type": "code",
   "execution_count": 40,
   "metadata": {},
   "outputs": [
    {
     "name": "stdout",
     "output_type": "stream",
     "text": [
      "<class 'pandas.core.frame.DataFrame'>\n",
      "Int64Index: 316323 entries, 0 to 354368\n",
      "Data columns (total 12 columns):\n",
      " #   Column            Non-Null Count   Dtype \n",
      "---  ------            --------------   ----- \n",
      " 0   Price             316323 non-null  int64 \n",
      " 1   VehicleType       316323 non-null  object\n",
      " 2   RegistrationYear  316323 non-null  int64 \n",
      " 3   Gearbox           316323 non-null  object\n",
      " 4   Power             316323 non-null  int64 \n",
      " 5   Model             316323 non-null  object\n",
      " 6   Kilometer         316323 non-null  int64 \n",
      " 7   FuelType          316323 non-null  object\n",
      " 8   Brand             316323 non-null  object\n",
      " 9   NotRepaired       316323 non-null  object\n",
      " 10  PostalCode        316323 non-null  int64 \n",
      " 11  AutoAge           316323 non-null  int64 \n",
      "dtypes: int64(6), object(6)\n",
      "memory usage: 31.4+ MB\n"
     ]
    }
   ],
   "source": [
    "data.info()"
   ]
  },
  {
   "cell_type": "markdown",
   "metadata": {},
   "source": [
    "## Часть 2. Обучение моделей. "
   ]
  },
  {
   "cell_type": "markdown",
   "metadata": {},
   "source": [
    "Создадим списки численных и категориальных столбцов:"
   ]
  },
  {
   "cell_type": "code",
   "execution_count": 41,
   "metadata": {},
   "outputs": [],
   "source": [
    "numerical_columns = ['RegistrationYear', 'Power', 'Kilometer', 'PostalCode', 'AutoAge']\n",
    "categorical_columns = ['VehicleType', 'Gearbox', 'Model', 'FuelType', 'Brand', 'NotRepaired']"
   ]
  },
  {
   "cell_type": "markdown",
   "metadata": {},
   "source": [
    "#### Классы и методы для решения задачи:"
   ]
  },
  {
   "cell_type": "code",
   "execution_count": 42,
   "metadata": {},
   "outputs": [],
   "source": [
    "class ab_ProgressBar():\n",
    "    \n",
    "    def __init__(self, max=0):\n",
    "        self.max_count = max\n",
    "        self.spinner_state = 0\n",
    "        self.progress = 0\n",
    "        self.start_time = time.perf_counter()\n",
    "        self.progress_step = 100 / self.max_count\n",
    "        self.draw()\n",
    "    \n",
    "    def get_diff_time(self, t):\n",
    "        return int(t // 3600), int((t // 60) % 60), int(t % 60)\n",
    "    \n",
    "    def get_time_string(self):\n",
    "        return '{0[0]:02}:{0[1]:02}:{0[2]:02}'.format(self.get_diff_time(time.perf_counter() - self.start_time))\n",
    "    \n",
    "    def get_left_time_string(self):\n",
    "        cur_time = time.perf_counter() - self.start_time\n",
    "        try:\n",
    "            return '{0[0]:02}:{0[1]:02}:{0[2]:02}'.format(self.get_diff_time(max(0, cur_time * (100 - self.progress) / self.progress)))\n",
    "        except:\n",
    "            return ' - '\n",
    "            \n",
    "    def get_fill_progress(self):\n",
    "        count = int(self.progress / 2)\n",
    "        return '.' * count + ' ' * int(50 - count)\n",
    "    \n",
    "    def draw(self):\n",
    "        print(f'[{self.progress:.1f}%][time: {self.get_time_string()}][{self.get_fill_progress()}][time left: {self.get_left_time_string()}]', end='\\r')\n",
    " \n",
    "    def increment(self, count=1):\n",
    "        self.draw()\n",
    "        self.progress += self.progress_step * count\n",
    "    \n",
    "    def stop(self):\n",
    "        print()"
   ]
  },
  {
   "cell_type": "markdown",
   "metadata": {},
   "source": [
    "Функция для преобразования категориальных признаков в численные одним из методов ('OHE' или 'OrdinalEncoder')"
   ]
  },
  {
   "cell_type": "code",
   "execution_count": 43,
   "metadata": {},
   "outputs": [],
   "source": [
    "def category_to_numeric(df, metod='OHE', columns=[]):\n",
    "    if metod == 'OHE':\n",
    "        return pd.get_dummies(df, drop_first=True)\n",
    "    encoder = OrdinalEncoder()\n",
    "    result = df.copy()\n",
    "    result[columns] = encoder.fit_transform(result[columns])\n",
    "    return result"
   ]
  },
  {
   "cell_type": "markdown",
   "metadata": {},
   "source": [
    "Функция для выделения целевого признака и разобивки выборки на тестовую и тренировочную"
   ]
  },
  {
   "cell_type": "code",
   "execution_count": 44,
   "metadata": {},
   "outputs": [],
   "source": [
    "# train_features, test_features, train_target, test_target\n",
    "def split_data(df, part=None):\n",
    "    result = train_test_split(df.drop(['Price'], axis=1), \n",
    "                                df['Price'], test_size=0.25, \n",
    "                                random_state=RANDOM_STATE\n",
    "                               )\n",
    "    if part == 'train':\n",
    "        return result[0], result[2]\n",
    "    elif part == 'test':\n",
    "        return result[1], result[3]\n",
    "    return result"
   ]
  },
  {
   "cell_type": "markdown",
   "metadata": {},
   "source": [
    "Переменная для параметров моделей"
   ]
  },
  {
   "cell_type": "code",
   "execution_count": 45,
   "metadata": {},
   "outputs": [],
   "source": [
    "models = pd.DataFrame()"
   ]
  },
  {
   "cell_type": "markdown",
   "metadata": {},
   "source": [
    "<a id='9.4-bullet'></a> \n",
    "### 4. Обучение модели \"Линейная регрессия\". "
   ]
  },
  {
   "cell_type": "markdown",
   "metadata": {},
   "source": [
    "Начнём с линейной регрессии. Для линейной регрессии не плохо провести стандартизацию."
   ]
  },
  {
   "cell_type": "code",
   "execution_count": 46,
   "metadata": {},
   "outputs": [],
   "source": [
    "def best_score_LinearRegression(df, cv=5):\n",
    "    progress_bar = ab_ProgressBar(cv - 1)\n",
    "    \n",
    "    class ab_Scaler(StandardScaler):\n",
    "        def __init__(self, *, columns=None, copy=True, with_mean=True, with_std=True):\n",
    "            self.columns = columns\n",
    "            super().__init__(copy=copy, with_mean=with_mean, with_std=with_std)\n",
    "            \n",
    "        def fit(self, X, y=None):\n",
    "            progress_bar.increment()\n",
    "            return super().fit(X[self.columns], y=y)\n",
    "        \n",
    "        def transform(self, X, copy=None):\n",
    "            X[self.columns] = super().transform(X[self.columns], copy=copy)\n",
    "            return X \n",
    "        \n",
    "    X, y = split_data(category_to_numeric(df), 'train')\n",
    "    pipe = Pipeline([('normalizer', \n",
    "                      ab_Scaler(columns=numerical_columns)), \n",
    "                     ('classifier', LinearRegression())])\n",
    "    RMSE = abs(sum(cross_val_score(pipe, X, y, cv=cv, scoring='neg_mean_squared_error')) / 5) ** 0.5\n",
    "    progress_bar.stop()\n",
    "    return {\n",
    "        'Model': 'LinearRegression', \n",
    "        'RMSE': RMSE\n",
    "           }"
   ]
  },
  {
   "cell_type": "code",
   "execution_count": 47,
   "metadata": {},
   "outputs": [
    {
     "name": "stdout",
     "output_type": "stream",
     "text": [
      "[100.0%][time: 00:00:24][..................................................][time left: 00:00:00]\n",
      "Результат:\n"
     ]
    },
    {
     "data": {
      "text/html": [
       "<div>\n",
       "<style scoped>\n",
       "    .dataframe tbody tr th:only-of-type {\n",
       "        vertical-align: middle;\n",
       "    }\n",
       "\n",
       "    .dataframe tbody tr th {\n",
       "        vertical-align: top;\n",
       "    }\n",
       "\n",
       "    .dataframe thead th {\n",
       "        text-align: right;\n",
       "    }\n",
       "</style>\n",
       "<table border=\"1\" class=\"dataframe\">\n",
       "  <thead>\n",
       "    <tr style=\"text-align: right;\">\n",
       "      <th></th>\n",
       "      <th>Model</th>\n",
       "      <th>RMSE</th>\n",
       "    </tr>\n",
       "  </thead>\n",
       "  <tbody>\n",
       "    <tr>\n",
       "      <th>0</th>\n",
       "      <td>LinearRegression</td>\n",
       "      <td>2626.750709</td>\n",
       "    </tr>\n",
       "  </tbody>\n",
       "</table>\n",
       "</div>"
      ],
      "text/plain": [
       "              Model         RMSE\n",
       "0  LinearRegression  2626.750709"
      ]
     },
     "metadata": {},
     "output_type": "display_data"
    }
   ],
   "source": [
    "models = models.append(best_score_LinearRegression(data), ignore_index=True)\n",
    "print('Результат:') \n",
    "display(models.tail(1))"
   ]
  },
  {
   "cell_type": "markdown",
   "metadata": {},
   "source": [
    "<a id='9.5-bullet'></a> \n",
    "### 5. Обучение модели \"Случайный лес\". "
   ]
  },
  {
   "cell_type": "code",
   "execution_count": 48,
   "metadata": {},
   "outputs": [],
   "source": [
    "def best_score_RandomForestRegressor(df, parameters, cv=5):\n",
    "    progress_bar = ab_ProgressBar(cv * sum(parameters['max_depth']) * sum(parameters['n_estimators']))\n",
    "    \n",
    "    class ab_RandomForestRegressor(RandomForestRegressor):\n",
    "\n",
    "        def fit(self, X, y):\n",
    "            progress_bar.increment(self.n_estimators * self.max_depth)\n",
    "            return super().fit(X, y)\n",
    "        \n",
    "    \n",
    "    X, y = split_data(category_to_numeric(df, 'Ordinal', columns=categorical_columns), 'train')\n",
    "    grid = GridSearchCV(ab_RandomForestRegressor(random_state=RANDOM_STATE), \n",
    "                        param_grid=parameters, cv=cv, scoring='neg_mean_squared_error')\n",
    "    DecisionTree_model = grid.fit(X, y)\n",
    "    progress_bar.stop()\n",
    "    return {\n",
    "        'Model': 'RandomForestRegressor', \n",
    "        'RMSE': abs(grid.best_score_) ** 0.5,\n",
    "        'max_depth': grid.best_params_['max_depth'],\n",
    "        'n_estimators': grid.best_params_['n_estimators']\n",
    "           }"
   ]
  },
  {
   "cell_type": "code",
   "execution_count": 49,
   "metadata": {},
   "outputs": [
    {
     "name": "stdout",
     "output_type": "stream",
     "text": [
      "[100.0%][time: 00:07:29][..................................................][time left: 00:00:00]\n",
      "Результат:\n"
     ]
    },
    {
     "data": {
      "text/html": [
       "<div>\n",
       "<style scoped>\n",
       "    .dataframe tbody tr th:only-of-type {\n",
       "        vertical-align: middle;\n",
       "    }\n",
       "\n",
       "    .dataframe tbody tr th {\n",
       "        vertical-align: top;\n",
       "    }\n",
       "\n",
       "    .dataframe thead th {\n",
       "        text-align: right;\n",
       "    }\n",
       "</style>\n",
       "<table border=\"1\" class=\"dataframe\">\n",
       "  <thead>\n",
       "    <tr style=\"text-align: right;\">\n",
       "      <th></th>\n",
       "      <th>Model</th>\n",
       "      <th>RMSE</th>\n",
       "      <th>max_depth</th>\n",
       "      <th>n_estimators</th>\n",
       "    </tr>\n",
       "  </thead>\n",
       "  <tbody>\n",
       "    <tr>\n",
       "      <th>1</th>\n",
       "      <td>RandomForestRegressor</td>\n",
       "      <td>1679.308218</td>\n",
       "      <td>21.0</td>\n",
       "      <td>100.0</td>\n",
       "    </tr>\n",
       "  </tbody>\n",
       "</table>\n",
       "</div>"
      ],
      "text/plain": [
       "                   Model         RMSE  max_depth  n_estimators\n",
       "1  RandomForestRegressor  1679.308218       21.0         100.0"
      ]
     },
     "metadata": {},
     "output_type": "display_data"
    }
   ],
   "source": [
    "if SEARCH_DEPTH == 'full':\n",
    "    parameters = {'max_depth': range(1, 30, 4), 'n_estimators': range(10, 101, 10)}\n",
    "else:\n",
    "    parameters = {'max_depth': [21], 'n_estimators': [100]}\n",
    "    \n",
    "models = models.append(\n",
    "    best_score_RandomForestRegressor(data, parameters=parameters), ignore_index=True)\n",
    "print('Результат:') \n",
    "display(models.tail(1))"
   ]
  },
  {
   "cell_type": "markdown",
   "metadata": {},
   "source": [
    "<a id='9.6-bullet'></a> \n",
    "### 6. Обучение модели \"Градиентный бустинг\". "
   ]
  },
  {
   "cell_type": "code",
   "execution_count": 50,
   "metadata": {},
   "outputs": [],
   "source": [
    "def best_score_LGBMRegressor(df, parameters, cv=5):\n",
    "    progress_bar = ab_ProgressBar(len(parameters['max_depth']) * len(parameters['n_estimators']) * len(parameters['boosting_type']) * cv)\n",
    "\n",
    "    class ab_LGBMRegressor(LGBMRegressor):\n",
    "        \n",
    "        def fit(self, X, y):\n",
    "            progress_bar.increment()\n",
    "            return super().fit(X, y)\n",
    "    \n",
    "    \n",
    "    X, y = split_data(category_to_numeric(df, 'Ordinal', columns=categorical_columns), 'train')\n",
    "    \n",
    "    grid = GridSearchCV(ab_LGBMRegressor(random_state=RANDOM_STATE), param_grid=parameters, cv=cv, scoring='neg_mean_squared_error')\n",
    "    grid.fit(X, y)\n",
    "    progress_bar.stop()\n",
    "    return {\n",
    "        'Model': 'LGBMRegressor', \n",
    "        'RMSE': abs(grid.best_score_) ** 0.5,\n",
    "        'max_depth': grid.best_params_['max_depth'],\n",
    "        'n_estimators': grid.best_params_['n_estimators'],\n",
    "        'boosting_type': grid.best_params_['boosting_type']\n",
    "           }"
   ]
  },
  {
   "cell_type": "code",
   "execution_count": 51,
   "metadata": {},
   "outputs": [
    {
     "name": "stdout",
     "output_type": "stream",
     "text": [
      "[100.0%][time: 00:00:09][..................................................][time left: 00:00:00]\n",
      "Результат:\n"
     ]
    },
    {
     "data": {
      "text/html": [
       "<div>\n",
       "<style scoped>\n",
       "    .dataframe tbody tr th:only-of-type {\n",
       "        vertical-align: middle;\n",
       "    }\n",
       "\n",
       "    .dataframe tbody tr th {\n",
       "        vertical-align: top;\n",
       "    }\n",
       "\n",
       "    .dataframe thead th {\n",
       "        text-align: right;\n",
       "    }\n",
       "</style>\n",
       "<table border=\"1\" class=\"dataframe\">\n",
       "  <thead>\n",
       "    <tr style=\"text-align: right;\">\n",
       "      <th></th>\n",
       "      <th>Model</th>\n",
       "      <th>RMSE</th>\n",
       "      <th>max_depth</th>\n",
       "      <th>n_estimators</th>\n",
       "      <th>boosting_type</th>\n",
       "    </tr>\n",
       "  </thead>\n",
       "  <tbody>\n",
       "    <tr>\n",
       "      <th>2</th>\n",
       "      <td>LGBMRegressor</td>\n",
       "      <td>1763.972964</td>\n",
       "      <td>17.0</td>\n",
       "      <td>100.0</td>\n",
       "      <td>goss</td>\n",
       "    </tr>\n",
       "  </tbody>\n",
       "</table>\n",
       "</div>"
      ],
      "text/plain": [
       "           Model         RMSE  max_depth  n_estimators boosting_type\n",
       "2  LGBMRegressor  1763.972964       17.0         100.0          goss"
      ]
     },
     "metadata": {},
     "output_type": "display_data"
    }
   ],
   "source": [
    "if SEARCH_DEPTH == 'full':\n",
    "    parameters = {'max_depth': range(1, 30, 4), 'n_estimators': range(10, 101, 10), 'boosting_type': ('gbdt', 'dart', 'goss')}\n",
    "else:\n",
    "    parameters = {'max_depth': [17], 'n_estimators': [100], 'boosting_type': ['goss']}\n",
    "models = models.append(\n",
    "    best_score_LGBMRegressor(data, parameters=parameters), ignore_index=True)\n",
    "print('Результат:') \n",
    "display(models.tail(1))"
   ]
  },
  {
   "cell_type": "markdown",
   "metadata": {},
   "source": [
    "Вот весь список получившихся молучших моделей, отсортированных по убыванию качества предсказания."
   ]
  },
  {
   "cell_type": "code",
   "execution_count": 52,
   "metadata": {},
   "outputs": [
    {
     "data": {
      "text/html": [
       "<div>\n",
       "<style scoped>\n",
       "    .dataframe tbody tr th:only-of-type {\n",
       "        vertical-align: middle;\n",
       "    }\n",
       "\n",
       "    .dataframe tbody tr th {\n",
       "        vertical-align: top;\n",
       "    }\n",
       "\n",
       "    .dataframe thead th {\n",
       "        text-align: right;\n",
       "    }\n",
       "</style>\n",
       "<table border=\"1\" class=\"dataframe\">\n",
       "  <thead>\n",
       "    <tr style=\"text-align: right;\">\n",
       "      <th></th>\n",
       "      <th>Model</th>\n",
       "      <th>RMSE</th>\n",
       "      <th>max_depth</th>\n",
       "      <th>n_estimators</th>\n",
       "      <th>boosting_type</th>\n",
       "    </tr>\n",
       "  </thead>\n",
       "  <tbody>\n",
       "    <tr>\n",
       "      <th>1</th>\n",
       "      <td>RandomForestRegressor</td>\n",
       "      <td>1679.308218</td>\n",
       "      <td>21.0</td>\n",
       "      <td>100.0</td>\n",
       "      <td>NaN</td>\n",
       "    </tr>\n",
       "    <tr>\n",
       "      <th>2</th>\n",
       "      <td>LGBMRegressor</td>\n",
       "      <td>1763.972964</td>\n",
       "      <td>17.0</td>\n",
       "      <td>100.0</td>\n",
       "      <td>goss</td>\n",
       "    </tr>\n",
       "    <tr>\n",
       "      <th>0</th>\n",
       "      <td>LinearRegression</td>\n",
       "      <td>2626.750709</td>\n",
       "      <td>NaN</td>\n",
       "      <td>NaN</td>\n",
       "      <td>NaN</td>\n",
       "    </tr>\n",
       "  </tbody>\n",
       "</table>\n",
       "</div>"
      ],
      "text/plain": [
       "                   Model         RMSE  max_depth  n_estimators boosting_type\n",
       "1  RandomForestRegressor  1679.308218       21.0         100.0           NaN\n",
       "2          LGBMRegressor  1763.972964       17.0         100.0          goss\n",
       "0       LinearRegression  2626.750709        NaN           NaN           NaN"
      ]
     },
     "metadata": {},
     "output_type": "display_data"
    }
   ],
   "source": [
    "display(models.sort_values('RMSE'))"
   ]
  },
  {
   "cell_type": "markdown",
   "metadata": {},
   "source": [
    "## Часть 3. Анализ моделей. "
   ]
  },
  {
   "cell_type": "markdown",
   "metadata": {},
   "source": [
    "Функция для получения параметров для оценки качества модели"
   ]
  },
  {
   "cell_type": "code",
   "execution_count": 53,
   "metadata": {},
   "outputs": [],
   "source": [
    "def get_model_quality(df, model, category_to_numeric_metod='OHE', category_columns=[]):\n",
    "    result = {}\n",
    "    X_train, X_test, y_train, y_test = split_data(category_to_numeric(df, metod=category_to_numeric_metod, columns=category_columns))\n",
    "    qtime = time.perf_counter()\n",
    "    model.fit(X_train, y_train)\n",
    "    result['Скорость обучение'] = time.perf_counter() - qtime\n",
    "    qtime = time.perf_counter()\n",
    "    result['Качество предсказания'] = mean_squared_error(y_test, model.predict(X_test)) ** 0.5\n",
    "    result['Скорость предсказания'] = time.perf_counter() - qtime\n",
    "    return result"
   ]
  },
  {
   "cell_type": "markdown",
   "metadata": {},
   "source": [
    "<a id='9.7-bullet'></a> \n",
    "### 7. Анализ модели \"Линейная регрессия\". "
   ]
  },
  {
   "cell_type": "markdown",
   "metadata": {},
   "source": [
    "Узнаем качество предсказания линейной регрессии на тестовой выборке, скорость предсказания и время обучения."
   ]
  },
  {
   "cell_type": "code",
   "execution_count": 54,
   "metadata": {},
   "outputs": [
    {
     "name": "stdout",
     "output_type": "stream",
     "text": [
      "{'Скорость обучение': 11.734976500000016, 'Качество предсказания': 2632.6948039495587, 'Скорость предсказания': 0.6444172000000208}\n"
     ]
    }
   ],
   "source": [
    "print(get_model_quality(data, Pipeline([('normalizer', StandardScaler()), ('classifier', LinearRegression())])))"
   ]
  },
  {
   "cell_type": "markdown",
   "metadata": {},
   "source": [
    "<a id='9.8-bullet'></a> \n",
    "### 8. Анализ модели \"Случайный лес\". "
   ]
  },
  {
   "cell_type": "markdown",
   "metadata": {},
   "source": [
    "Узнаем качество предсказания модели \"случайный лес\" на тестовой выборке, скорость предсказания и время обучения."
   ]
  },
  {
   "cell_type": "code",
   "execution_count": 55,
   "metadata": {},
   "outputs": [
    {
     "name": "stdout",
     "output_type": "stream",
     "text": [
      "{'Скорость обучение': 106.98719860000006, 'Качество предсказания': 1658.6081122631097, 'Скорость предсказания': 2.3656473999999434}\n"
     ]
    }
   ],
   "source": [
    "print(get_model_quality(data, RandomForestRegressor(max_depth=21, n_estimators=100, random_state=RANDOM_STATE), 'Ordinal', categorical_columns))"
   ]
  },
  {
   "cell_type": "markdown",
   "metadata": {},
   "source": [
    "<a id='9.9-bullet'></a> \n",
    "### 9. Анализ модели \"Градиентный бустинг\". "
   ]
  },
  {
   "cell_type": "markdown",
   "metadata": {},
   "source": [
    "Узнаем качество предсказания модели \"Градиентный бустинг\" на тестовой выборке, скорость предсказания и время обучения."
   ]
  },
  {
   "cell_type": "code",
   "execution_count": 56,
   "metadata": {},
   "outputs": [
    {
     "name": "stdout",
     "output_type": "stream",
     "text": [
      "{'Скорость обучение': 1.1584219999999732, 'Качество предсказания': 1786.1818873552809, 'Скорость предсказания': 0.17943909999996777}\n"
     ]
    }
   ],
   "source": [
    "print(get_model_quality(data, LGBMRegressor(max_depth=17, n_estimators=100, boosting_type='goss', random_state=RANDOM_STATE), 'Ordinal', categorical_columns))"
   ]
  },
  {
   "cell_type": "markdown",
   "metadata": {},
   "source": [
    "<a id='9.10-bullet'></a> \n",
    "### 10. Вывод. "
   ]
  },
  {
   "cell_type": "markdown",
   "metadata": {},
   "source": [
    "В результате проведённого исследования были получены следующие результаты:\n",
    "- самое высокое качество предсказания у модели регрессии \"случайный лес\" - RMSE-метрика составляет 1658, но скорость обучения и скорость предсказания самые маленькие. На обучение тратится больше потлутора минут, а на предсказание 2, 5 секунды\n",
    "- самую высокую скорость обучения и предсказания показала модель регрессии \"градиентный бустинг\" - 1,1 секунды и 0,18 секунд, соответственно. Качество предсказания немного проигрывает модели \"случайный лес\", но проигрыш составляет менее 8%, в то время как по скорости обучения эта модель лучше модели \"случайный лес\" на 2 порядка, а по скорости предсказания на 1 порядок. Это серьёзное преимущество.\n",
    "- модель линейной регрессии по качеству предсказания значительно уступает другим моделям и проигрывает по скорости \"градиентному бустингу\" в несколько раз."
   ]
  }
 ],
 "metadata": {
  "kernelspec": {
   "display_name": "Python 3",
   "language": "python",
   "name": "python3"
  },
  "language_info": {
   "codemirror_mode": {
    "name": "ipython",
    "version": 3
   },
   "file_extension": ".py",
   "mimetype": "text/x-python",
   "name": "python",
   "nbconvert_exporter": "python",
   "pygments_lexer": "ipython3",
   "version": "3.8.5"
  },
  "toc": {
   "base_numbering": 1,
   "nav_menu": {},
   "number_sections": true,
   "sideBar": true,
   "skip_h1_title": true,
   "title_cell": "Table of Contents",
   "title_sidebar": "Contents",
   "toc_cell": false,
   "toc_position": {},
   "toc_section_display": true,
   "toc_window_display": false
  }
 },
 "nbformat": 4,
 "nbformat_minor": 4
}
