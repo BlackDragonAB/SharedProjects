{
 "cells": [
  {
   "cell_type": "markdown",
   "metadata": {},
   "source": [
    "### Часть 1. Загрузка и изучение данных:\n",
    "* [1. Подключение необходимых библиотек, импортирование функций, инициализация констант.](#fp.1-bullet)\n",
    "* [2. Загрузка данных.](#fp.2-bullet)\n",
    "* [3. Изучение данных.](#fp.3-bullet)\n",
    "* [4. Вывод.](#fp.4-bullet)\n",
    "\n",
    "### Часть 2. Анализ и подготовка данных:\n",
    "* [5. Объединение таблиц.](#fp.5-bullet)\n",
    "* [6. Приведение столбцов к нужному типу.](#fp.6-bullet)\n",
    "* [7. Добавление новых признаков.](#fp.7-bullet)\n",
    "* [8. Анализ данных и избавление от ненужных для обучения признаков.](#fp.8-bullet)\n",
    "* [9. Вывод.](#fp.9-bullet)\n",
    "    \n",
    "### Часть 3. Подбор и обучение оптимальных моделей.\n",
    "* [10. Обучение модели логистической регрессии.](#fp.10-bullet)\n",
    "* [11. Подбор параметров и обучение модели градиентного бустинга.](#fp.11-bullet)\n",
    "* [12. Вывод.](#fp.12-bullet)\n",
    "    \n",
    "### Часть 4. Проверка моделей на тестовой выборке.\n",
    "* [13. Проверка наилучшей модели логистической регрессии на тестовой выборке.](#fp.13-bullet)\n",
    "* [14. Проверка наилучшей модели лградиентного бустинга на тестовой выборке.](#fp.14-bullet)\n",
    "    \n",
    "### Часть 5. Обший вывод:\n",
    "* [15. Общий вывод.](#fp.15-bullet)"
   ]
  },
  {
   "cell_type": "markdown",
   "metadata": {},
   "source": [
    "## Часть 1. Загрузка и изучение данных. "
   ]
  },
  {
   "cell_type": "markdown",
   "metadata": {},
   "source": [
    "<a id='fp.1-bullet'></a> \n",
    "### 1. Подключение необходимых библиотек, импортирование функций, инициализация констант. "
   ]
  },
  {
   "cell_type": "code",
   "execution_count": 1,
   "metadata": {},
   "outputs": [],
   "source": [
    "import pandas as pd\n",
    "import matplotlib.pyplot as plt\n",
    "import seaborn as sns\n",
    "import numpy as np\n",
    "import time\n",
    "import warnings\n",
    "\n",
    "from sklearn.preprocessing import StandardScaler\n",
    "from sklearn.preprocessing import OrdinalEncoder\n",
    "from sklearn.model_selection import train_test_split\n",
    "from sklearn.linear_model import LogisticRegression\n",
    "from sklearn.model_selection import GridSearchCV\n",
    "from sklearn.metrics import roc_auc_score\n",
    "from sklearn.metrics import accuracy_score\n",
    "from sklearn.pipeline import Pipeline\n",
    "from sklearn.utils import shuffle\n",
    "from sklearn.compose import TransformedTargetRegressor\n",
    "from sklearn.preprocessing import OneHotEncoder\n",
    "from sklearn.preprocessing import FunctionTransformer\n",
    "from sklearn.pipeline import FeatureUnion\n",
    "from sklearn.model_selection import cross_val_score\n",
    "from catboost import CatBoostClassifier\n",
    "\n",
    "warnings.filterwarnings(\"ignore\")\n",
    "pd.options.mode.chained_assignment = None\n",
    "\n",
    "RANDOM_STATE = 190380"
   ]
  },
  {
   "cell_type": "markdown",
   "metadata": {},
   "source": [
    "<a id='fp.2-bullet'></a> \n",
    "### 2. Загрузка данных. "
   ]
  },
  {
   "cell_type": "markdown",
   "metadata": {},
   "source": [
    "Функция загрузки данных"
   ]
  },
  {
   "cell_type": "code",
   "execution_count": 2,
   "metadata": {},
   "outputs": [],
   "source": [
    "def load_data(is_local=True):\n",
    "    path = {True: './datasets/', False: '/datasets/'}\n",
    "    return (\n",
    "        pd.read_csv(f'{path[is_local]}contract.csv'), \n",
    "        pd.read_csv(f'{path[is_local]}internet.csv'), \n",
    "        pd.read_csv(f'{path[is_local]}personal.csv'),\n",
    "        pd.read_csv(f'{path[is_local]}phone.csv')\n",
    "    )"
   ]
  },
  {
   "cell_type": "code",
   "execution_count": 3,
   "metadata": {},
   "outputs": [],
   "source": [
    "try:\n",
    "    d_contact, d_internet, d_personal, d_phone = load_data(False)\n",
    "except:\n",
    "    d_contact, d_internet, d_personal, d_phone = load_data(True)"
   ]
  },
  {
   "cell_type": "markdown",
   "metadata": {},
   "source": [
    "<a id='fp.3-bullet'></a> \n",
    "### 3. Изучение данных. "
   ]
  },
  {
   "cell_type": "markdown",
   "metadata": {},
   "source": [
    "##### Изучим таблицу *contact*:"
   ]
  },
  {
   "cell_type": "code",
   "execution_count": 4,
   "metadata": {},
   "outputs": [
    {
     "name": "stdout",
     "output_type": "stream",
     "text": [
      "<class 'pandas.core.frame.DataFrame'>\n",
      "RangeIndex: 7043 entries, 0 to 7042\n",
      "Data columns (total 8 columns):\n",
      " #   Column            Non-Null Count  Dtype  \n",
      "---  ------            --------------  -----  \n",
      " 0   customerID        7043 non-null   object \n",
      " 1   BeginDate         7043 non-null   object \n",
      " 2   EndDate           7043 non-null   object \n",
      " 3   Type              7043 non-null   object \n",
      " 4   PaperlessBilling  7043 non-null   object \n",
      " 5   PaymentMethod     7043 non-null   object \n",
      " 6   MonthlyCharges    7043 non-null   float64\n",
      " 7   TotalCharges      7043 non-null   object \n",
      "dtypes: float64(1), object(7)\n",
      "memory usage: 440.3+ KB\n"
     ]
    },
    {
     "data": {
      "text/html": [
       "<div>\n",
       "<style scoped>\n",
       "    .dataframe tbody tr th:only-of-type {\n",
       "        vertical-align: middle;\n",
       "    }\n",
       "\n",
       "    .dataframe tbody tr th {\n",
       "        vertical-align: top;\n",
       "    }\n",
       "\n",
       "    .dataframe thead th {\n",
       "        text-align: right;\n",
       "    }\n",
       "</style>\n",
       "<table border=\"1\" class=\"dataframe\">\n",
       "  <thead>\n",
       "    <tr style=\"text-align: right;\">\n",
       "      <th></th>\n",
       "      <th>customerID</th>\n",
       "      <th>BeginDate</th>\n",
       "      <th>EndDate</th>\n",
       "      <th>Type</th>\n",
       "      <th>PaperlessBilling</th>\n",
       "      <th>PaymentMethod</th>\n",
       "      <th>MonthlyCharges</th>\n",
       "      <th>TotalCharges</th>\n",
       "    </tr>\n",
       "  </thead>\n",
       "  <tbody>\n",
       "    <tr>\n",
       "      <th>0</th>\n",
       "      <td>7590-VHVEG</td>\n",
       "      <td>2020-01-01</td>\n",
       "      <td>No</td>\n",
       "      <td>Month-to-month</td>\n",
       "      <td>Yes</td>\n",
       "      <td>Electronic check</td>\n",
       "      <td>29.85</td>\n",
       "      <td>29.85</td>\n",
       "    </tr>\n",
       "    <tr>\n",
       "      <th>1</th>\n",
       "      <td>5575-GNVDE</td>\n",
       "      <td>2017-04-01</td>\n",
       "      <td>No</td>\n",
       "      <td>One year</td>\n",
       "      <td>No</td>\n",
       "      <td>Mailed check</td>\n",
       "      <td>56.95</td>\n",
       "      <td>1889.5</td>\n",
       "    </tr>\n",
       "    <tr>\n",
       "      <th>2</th>\n",
       "      <td>3668-QPYBK</td>\n",
       "      <td>2019-10-01</td>\n",
       "      <td>2019-12-01 00:00:00</td>\n",
       "      <td>Month-to-month</td>\n",
       "      <td>Yes</td>\n",
       "      <td>Mailed check</td>\n",
       "      <td>53.85</td>\n",
       "      <td>108.15</td>\n",
       "    </tr>\n",
       "    <tr>\n",
       "      <th>3</th>\n",
       "      <td>7795-CFOCW</td>\n",
       "      <td>2016-05-01</td>\n",
       "      <td>No</td>\n",
       "      <td>One year</td>\n",
       "      <td>No</td>\n",
       "      <td>Bank transfer (automatic)</td>\n",
       "      <td>42.30</td>\n",
       "      <td>1840.75</td>\n",
       "    </tr>\n",
       "    <tr>\n",
       "      <th>4</th>\n",
       "      <td>9237-HQITU</td>\n",
       "      <td>2019-09-01</td>\n",
       "      <td>2019-11-01 00:00:00</td>\n",
       "      <td>Month-to-month</td>\n",
       "      <td>Yes</td>\n",
       "      <td>Electronic check</td>\n",
       "      <td>70.70</td>\n",
       "      <td>151.65</td>\n",
       "    </tr>\n",
       "  </tbody>\n",
       "</table>\n",
       "</div>"
      ],
      "text/plain": [
       "   customerID   BeginDate              EndDate            Type  \\\n",
       "0  7590-VHVEG  2020-01-01                   No  Month-to-month   \n",
       "1  5575-GNVDE  2017-04-01                   No        One year   \n",
       "2  3668-QPYBK  2019-10-01  2019-12-01 00:00:00  Month-to-month   \n",
       "3  7795-CFOCW  2016-05-01                   No        One year   \n",
       "4  9237-HQITU  2019-09-01  2019-11-01 00:00:00  Month-to-month   \n",
       "\n",
       "  PaperlessBilling              PaymentMethod  MonthlyCharges TotalCharges  \n",
       "0              Yes           Electronic check           29.85        29.85  \n",
       "1               No               Mailed check           56.95       1889.5  \n",
       "2              Yes               Mailed check           53.85       108.15  \n",
       "3               No  Bank transfer (automatic)           42.30      1840.75  \n",
       "4              Yes           Electronic check           70.70       151.65  "
      ]
     },
     "metadata": {},
     "output_type": "display_data"
    }
   ],
   "source": [
    "d_contact.info()\n",
    "display(d_contact.head())"
   ]
  },
  {
   "cell_type": "markdown",
   "metadata": {},
   "source": [
    "Таблица с основными данными по клиентам.\n",
    "Поля таблицы:\n",
    "\n",
    "    customerID - уникальный код клиентв (строка)\n",
    "    BeginDate - дата начала пользования услугами (строка)\n",
    "    EndDate - дата окончания пользования услугами (строка)\n",
    "    Type -  тип оплаты: ежемесячный, годовой и тд (строка)\n",
    "    PaperlessBilling - безналичный расчет (строка)\n",
    "    PaymentMethod - способ оплаты (строка)\n",
    "    MonthlyCharges - ежемесячные траты на услуги (флоат)\n",
    "    TotalCharges - всего потрачено денег на услуги (строка)"
   ]
  },
  {
   "cell_type": "markdown",
   "metadata": {},
   "source": [
    "Всего 7043 записей, пропусков нету."
   ]
  },
  {
   "cell_type": "markdown",
   "metadata": {},
   "source": [
    "##### Изучим таблицу *internet*:"
   ]
  },
  {
   "cell_type": "code",
   "execution_count": 5,
   "metadata": {},
   "outputs": [
    {
     "name": "stdout",
     "output_type": "stream",
     "text": [
      "<class 'pandas.core.frame.DataFrame'>\n",
      "RangeIndex: 5517 entries, 0 to 5516\n",
      "Data columns (total 8 columns):\n",
      " #   Column            Non-Null Count  Dtype \n",
      "---  ------            --------------  ----- \n",
      " 0   customerID        5517 non-null   object\n",
      " 1   InternetService   5517 non-null   object\n",
      " 2   OnlineSecurity    5517 non-null   object\n",
      " 3   OnlineBackup      5517 non-null   object\n",
      " 4   DeviceProtection  5517 non-null   object\n",
      " 5   TechSupport       5517 non-null   object\n",
      " 6   StreamingTV       5517 non-null   object\n",
      " 7   StreamingMovies   5517 non-null   object\n",
      "dtypes: object(8)\n",
      "memory usage: 344.9+ KB\n"
     ]
    },
    {
     "data": {
      "text/html": [
       "<div>\n",
       "<style scoped>\n",
       "    .dataframe tbody tr th:only-of-type {\n",
       "        vertical-align: middle;\n",
       "    }\n",
       "\n",
       "    .dataframe tbody tr th {\n",
       "        vertical-align: top;\n",
       "    }\n",
       "\n",
       "    .dataframe thead th {\n",
       "        text-align: right;\n",
       "    }\n",
       "</style>\n",
       "<table border=\"1\" class=\"dataframe\">\n",
       "  <thead>\n",
       "    <tr style=\"text-align: right;\">\n",
       "      <th></th>\n",
       "      <th>customerID</th>\n",
       "      <th>InternetService</th>\n",
       "      <th>OnlineSecurity</th>\n",
       "      <th>OnlineBackup</th>\n",
       "      <th>DeviceProtection</th>\n",
       "      <th>TechSupport</th>\n",
       "      <th>StreamingTV</th>\n",
       "      <th>StreamingMovies</th>\n",
       "    </tr>\n",
       "  </thead>\n",
       "  <tbody>\n",
       "    <tr>\n",
       "      <th>0</th>\n",
       "      <td>7590-VHVEG</td>\n",
       "      <td>DSL</td>\n",
       "      <td>No</td>\n",
       "      <td>Yes</td>\n",
       "      <td>No</td>\n",
       "      <td>No</td>\n",
       "      <td>No</td>\n",
       "      <td>No</td>\n",
       "    </tr>\n",
       "    <tr>\n",
       "      <th>1</th>\n",
       "      <td>5575-GNVDE</td>\n",
       "      <td>DSL</td>\n",
       "      <td>Yes</td>\n",
       "      <td>No</td>\n",
       "      <td>Yes</td>\n",
       "      <td>No</td>\n",
       "      <td>No</td>\n",
       "      <td>No</td>\n",
       "    </tr>\n",
       "    <tr>\n",
       "      <th>2</th>\n",
       "      <td>3668-QPYBK</td>\n",
       "      <td>DSL</td>\n",
       "      <td>Yes</td>\n",
       "      <td>Yes</td>\n",
       "      <td>No</td>\n",
       "      <td>No</td>\n",
       "      <td>No</td>\n",
       "      <td>No</td>\n",
       "    </tr>\n",
       "    <tr>\n",
       "      <th>3</th>\n",
       "      <td>7795-CFOCW</td>\n",
       "      <td>DSL</td>\n",
       "      <td>Yes</td>\n",
       "      <td>No</td>\n",
       "      <td>Yes</td>\n",
       "      <td>Yes</td>\n",
       "      <td>No</td>\n",
       "      <td>No</td>\n",
       "    </tr>\n",
       "    <tr>\n",
       "      <th>4</th>\n",
       "      <td>9237-HQITU</td>\n",
       "      <td>Fiber optic</td>\n",
       "      <td>No</td>\n",
       "      <td>No</td>\n",
       "      <td>No</td>\n",
       "      <td>No</td>\n",
       "      <td>No</td>\n",
       "      <td>No</td>\n",
       "    </tr>\n",
       "  </tbody>\n",
       "</table>\n",
       "</div>"
      ],
      "text/plain": [
       "   customerID InternetService OnlineSecurity OnlineBackup DeviceProtection  \\\n",
       "0  7590-VHVEG             DSL             No          Yes               No   \n",
       "1  5575-GNVDE             DSL            Yes           No              Yes   \n",
       "2  3668-QPYBK             DSL            Yes          Yes               No   \n",
       "3  7795-CFOCW             DSL            Yes           No              Yes   \n",
       "4  9237-HQITU     Fiber optic             No           No               No   \n",
       "\n",
       "  TechSupport StreamingTV StreamingMovies  \n",
       "0          No          No              No  \n",
       "1          No          No              No  \n",
       "2          No          No              No  \n",
       "3         Yes          No              No  \n",
       "4          No          No              No  "
      ]
     },
     "metadata": {},
     "output_type": "display_data"
    }
   ],
   "source": [
    "d_internet.info()\n",
    "display(d_internet.head())"
   ]
  },
  {
   "cell_type": "markdown",
   "metadata": {},
   "source": [
    "Таблица содержит информацию по услуге интернет. Поля таблицы:\n",
    "\n",
    "    customerID - уникальный код клиентв (строка)\n",
    "    InternetService - тип интернет соединения (строка)\n",
    "    OnlineSecurity - доп. услуга (строка)\n",
    "    OnlineBackup - доп. услуга (строка)\n",
    "    DeviceProtection - доп. услуга (строка)\n",
    "    TechSupport - доп. услуга (строка)\n",
    "    StreamingTV - доп. услуга (строка)\n",
    "    StreamingMovies - доп. услуга (строка)"
   ]
  },
  {
   "cell_type": "markdown",
   "metadata": {},
   "source": [
    "Всего 5517 записей. Пропусков нету."
   ]
  },
  {
   "cell_type": "markdown",
   "metadata": {},
   "source": [
    "##### Изучим таблицу *personal*:"
   ]
  },
  {
   "cell_type": "code",
   "execution_count": 6,
   "metadata": {},
   "outputs": [
    {
     "name": "stdout",
     "output_type": "stream",
     "text": [
      "<class 'pandas.core.frame.DataFrame'>\n",
      "RangeIndex: 7043 entries, 0 to 7042\n",
      "Data columns (total 5 columns):\n",
      " #   Column         Non-Null Count  Dtype \n",
      "---  ------         --------------  ----- \n",
      " 0   customerID     7043 non-null   object\n",
      " 1   gender         7043 non-null   object\n",
      " 2   SeniorCitizen  7043 non-null   int64 \n",
      " 3   Partner        7043 non-null   object\n",
      " 4   Dependents     7043 non-null   object\n",
      "dtypes: int64(1), object(4)\n",
      "memory usage: 275.2+ KB\n"
     ]
    },
    {
     "data": {
      "text/html": [
       "<div>\n",
       "<style scoped>\n",
       "    .dataframe tbody tr th:only-of-type {\n",
       "        vertical-align: middle;\n",
       "    }\n",
       "\n",
       "    .dataframe tbody tr th {\n",
       "        vertical-align: top;\n",
       "    }\n",
       "\n",
       "    .dataframe thead th {\n",
       "        text-align: right;\n",
       "    }\n",
       "</style>\n",
       "<table border=\"1\" class=\"dataframe\">\n",
       "  <thead>\n",
       "    <tr style=\"text-align: right;\">\n",
       "      <th></th>\n",
       "      <th>customerID</th>\n",
       "      <th>gender</th>\n",
       "      <th>SeniorCitizen</th>\n",
       "      <th>Partner</th>\n",
       "      <th>Dependents</th>\n",
       "    </tr>\n",
       "  </thead>\n",
       "  <tbody>\n",
       "    <tr>\n",
       "      <th>0</th>\n",
       "      <td>7590-VHVEG</td>\n",
       "      <td>Female</td>\n",
       "      <td>0</td>\n",
       "      <td>Yes</td>\n",
       "      <td>No</td>\n",
       "    </tr>\n",
       "    <tr>\n",
       "      <th>1</th>\n",
       "      <td>5575-GNVDE</td>\n",
       "      <td>Male</td>\n",
       "      <td>0</td>\n",
       "      <td>No</td>\n",
       "      <td>No</td>\n",
       "    </tr>\n",
       "    <tr>\n",
       "      <th>2</th>\n",
       "      <td>3668-QPYBK</td>\n",
       "      <td>Male</td>\n",
       "      <td>0</td>\n",
       "      <td>No</td>\n",
       "      <td>No</td>\n",
       "    </tr>\n",
       "    <tr>\n",
       "      <th>3</th>\n",
       "      <td>7795-CFOCW</td>\n",
       "      <td>Male</td>\n",
       "      <td>0</td>\n",
       "      <td>No</td>\n",
       "      <td>No</td>\n",
       "    </tr>\n",
       "    <tr>\n",
       "      <th>4</th>\n",
       "      <td>9237-HQITU</td>\n",
       "      <td>Female</td>\n",
       "      <td>0</td>\n",
       "      <td>No</td>\n",
       "      <td>No</td>\n",
       "    </tr>\n",
       "  </tbody>\n",
       "</table>\n",
       "</div>"
      ],
      "text/plain": [
       "   customerID  gender  SeniorCitizen Partner Dependents\n",
       "0  7590-VHVEG  Female              0     Yes         No\n",
       "1  5575-GNVDE    Male              0      No         No\n",
       "2  3668-QPYBK    Male              0      No         No\n",
       "3  7795-CFOCW    Male              0      No         No\n",
       "4  9237-HQITU  Female              0      No         No"
      ]
     },
     "metadata": {},
     "output_type": "display_data"
    }
   ],
   "source": [
    "d_personal.info()\n",
    "display(d_personal.head())"
   ]
  },
  {
   "cell_type": "markdown",
   "metadata": {},
   "source": [
    "Таблица содержит персональные данные клиентов. Поля таблицы:\n",
    "\n",
    "    customerID - уникальный код клиентв (строка)\n",
    "    gender - пол (строка)\n",
    "    SeniorCitizen -  наличие пенсионного статуса по возрасту (целое)\n",
    "    Partner - наличие супруга(и) (строка)\n",
    "    Dependents -  наличие иждивенцев (строка)"
   ]
  },
  {
   "cell_type": "markdown",
   "metadata": {},
   "source": [
    "Всего 7043 записей. Пропусков нету."
   ]
  },
  {
   "cell_type": "markdown",
   "metadata": {},
   "source": [
    "##### Изучим таблицу *phone*:"
   ]
  },
  {
   "cell_type": "code",
   "execution_count": 7,
   "metadata": {},
   "outputs": [
    {
     "name": "stdout",
     "output_type": "stream",
     "text": [
      "<class 'pandas.core.frame.DataFrame'>\n",
      "RangeIndex: 6361 entries, 0 to 6360\n",
      "Data columns (total 2 columns):\n",
      " #   Column         Non-Null Count  Dtype \n",
      "---  ------         --------------  ----- \n",
      " 0   customerID     6361 non-null   object\n",
      " 1   MultipleLines  6361 non-null   object\n",
      "dtypes: object(2)\n",
      "memory usage: 99.5+ KB\n"
     ]
    },
    {
     "data": {
      "text/html": [
       "<div>\n",
       "<style scoped>\n",
       "    .dataframe tbody tr th:only-of-type {\n",
       "        vertical-align: middle;\n",
       "    }\n",
       "\n",
       "    .dataframe tbody tr th {\n",
       "        vertical-align: top;\n",
       "    }\n",
       "\n",
       "    .dataframe thead th {\n",
       "        text-align: right;\n",
       "    }\n",
       "</style>\n",
       "<table border=\"1\" class=\"dataframe\">\n",
       "  <thead>\n",
       "    <tr style=\"text-align: right;\">\n",
       "      <th></th>\n",
       "      <th>customerID</th>\n",
       "      <th>MultipleLines</th>\n",
       "    </tr>\n",
       "  </thead>\n",
       "  <tbody>\n",
       "    <tr>\n",
       "      <th>0</th>\n",
       "      <td>5575-GNVDE</td>\n",
       "      <td>No</td>\n",
       "    </tr>\n",
       "    <tr>\n",
       "      <th>1</th>\n",
       "      <td>3668-QPYBK</td>\n",
       "      <td>No</td>\n",
       "    </tr>\n",
       "    <tr>\n",
       "      <th>2</th>\n",
       "      <td>9237-HQITU</td>\n",
       "      <td>No</td>\n",
       "    </tr>\n",
       "    <tr>\n",
       "      <th>3</th>\n",
       "      <td>9305-CDSKC</td>\n",
       "      <td>Yes</td>\n",
       "    </tr>\n",
       "    <tr>\n",
       "      <th>4</th>\n",
       "      <td>1452-KIOVK</td>\n",
       "      <td>Yes</td>\n",
       "    </tr>\n",
       "  </tbody>\n",
       "</table>\n",
       "</div>"
      ],
      "text/plain": [
       "   customerID MultipleLines\n",
       "0  5575-GNVDE            No\n",
       "1  3668-QPYBK            No\n",
       "2  9237-HQITU            No\n",
       "3  9305-CDSKC           Yes\n",
       "4  1452-KIOVK           Yes"
      ]
     },
     "metadata": {},
     "output_type": "display_data"
    }
   ],
   "source": [
    "d_phone.info()\n",
    "display(d_phone.head())"
   ]
  },
  {
   "cell_type": "markdown",
   "metadata": {},
   "source": [
    "Таблица содержит информацию по услуги телефонной связи. Поля таблицы:\n",
    "\n",
    "    customerID - уникальный код клиентв (строка)\n",
    "    MultipleLines - наличие возможности ведения параллельных линий во время звонка (строка)"
   ]
  },
  {
   "cell_type": "markdown",
   "metadata": {},
   "source": [
    "Всего 6361 записей. Пропусков нету."
   ]
  },
  {
   "cell_type": "markdown",
   "metadata": {},
   "source": [
    "<a id='fp.4-bullet'></a> \n",
    "### 4. Вывод. "
   ]
  },
  {
   "cell_type": "markdown",
   "metadata": {},
   "source": [
    "Предварительное изучение данных показало большое количество полей с несоответствующими типами данных. Так же видно, что не каждый абонент пользовался обеими услугами (телефон, интернет). В данных отсутствуют пропуски. "
   ]
  },
  {
   "cell_type": "markdown",
   "metadata": {},
   "source": [
    "## Часть 2. Анализ и подготовка данных. "
   ]
  },
  {
   "cell_type": "markdown",
   "metadata": {},
   "source": [
    "<a id='fp.5-bullet'></a> \n",
    "### 5. Объединение таблиц. "
   ]
  },
  {
   "cell_type": "markdown",
   "metadata": {},
   "source": [
    "Объединим таблицы по customerID сделав из него индекс."
   ]
  },
  {
   "cell_type": "code",
   "execution_count": 8,
   "metadata": {},
   "outputs": [],
   "source": [
    "data = d_contact.set_index('customerID').join([d_personal.set_index('customerID'), d_internet.set_index('customerID'), d_phone.set_index('customerID')])"
   ]
  },
  {
   "cell_type": "markdown",
   "metadata": {},
   "source": [
    "Результат:"
   ]
  },
  {
   "cell_type": "code",
   "execution_count": 9,
   "metadata": {},
   "outputs": [
    {
     "name": "stdout",
     "output_type": "stream",
     "text": [
      "<class 'pandas.core.frame.DataFrame'>\n",
      "Index: 7043 entries, 7590-VHVEG to 3186-AJIEK\n",
      "Data columns (total 19 columns):\n",
      " #   Column            Non-Null Count  Dtype  \n",
      "---  ------            --------------  -----  \n",
      " 0   BeginDate         7043 non-null   object \n",
      " 1   EndDate           7043 non-null   object \n",
      " 2   Type              7043 non-null   object \n",
      " 3   PaperlessBilling  7043 non-null   object \n",
      " 4   PaymentMethod     7043 non-null   object \n",
      " 5   MonthlyCharges    7043 non-null   float64\n",
      " 6   TotalCharges      7043 non-null   object \n",
      " 7   gender            7043 non-null   object \n",
      " 8   SeniorCitizen     7043 non-null   int64  \n",
      " 9   Partner           7043 non-null   object \n",
      " 10  Dependents        7043 non-null   object \n",
      " 11  InternetService   5517 non-null   object \n",
      " 12  OnlineSecurity    5517 non-null   object \n",
      " 13  OnlineBackup      5517 non-null   object \n",
      " 14  DeviceProtection  5517 non-null   object \n",
      " 15  TechSupport       5517 non-null   object \n",
      " 16  StreamingTV       5517 non-null   object \n",
      " 17  StreamingMovies   5517 non-null   object \n",
      " 18  MultipleLines     6361 non-null   object \n",
      "dtypes: float64(1), int64(1), object(17)\n",
      "memory usage: 1.4+ MB\n"
     ]
    },
    {
     "data": {
      "text/html": [
       "<div>\n",
       "<style scoped>\n",
       "    .dataframe tbody tr th:only-of-type {\n",
       "        vertical-align: middle;\n",
       "    }\n",
       "\n",
       "    .dataframe tbody tr th {\n",
       "        vertical-align: top;\n",
       "    }\n",
       "\n",
       "    .dataframe thead th {\n",
       "        text-align: right;\n",
       "    }\n",
       "</style>\n",
       "<table border=\"1\" class=\"dataframe\">\n",
       "  <thead>\n",
       "    <tr style=\"text-align: right;\">\n",
       "      <th></th>\n",
       "      <th>BeginDate</th>\n",
       "      <th>EndDate</th>\n",
       "      <th>Type</th>\n",
       "      <th>PaperlessBilling</th>\n",
       "      <th>PaymentMethod</th>\n",
       "      <th>MonthlyCharges</th>\n",
       "      <th>TotalCharges</th>\n",
       "      <th>gender</th>\n",
       "      <th>SeniorCitizen</th>\n",
       "      <th>Partner</th>\n",
       "      <th>Dependents</th>\n",
       "      <th>InternetService</th>\n",
       "      <th>OnlineSecurity</th>\n",
       "      <th>OnlineBackup</th>\n",
       "      <th>DeviceProtection</th>\n",
       "      <th>TechSupport</th>\n",
       "      <th>StreamingTV</th>\n",
       "      <th>StreamingMovies</th>\n",
       "      <th>MultipleLines</th>\n",
       "    </tr>\n",
       "    <tr>\n",
       "      <th>customerID</th>\n",
       "      <th></th>\n",
       "      <th></th>\n",
       "      <th></th>\n",
       "      <th></th>\n",
       "      <th></th>\n",
       "      <th></th>\n",
       "      <th></th>\n",
       "      <th></th>\n",
       "      <th></th>\n",
       "      <th></th>\n",
       "      <th></th>\n",
       "      <th></th>\n",
       "      <th></th>\n",
       "      <th></th>\n",
       "      <th></th>\n",
       "      <th></th>\n",
       "      <th></th>\n",
       "      <th></th>\n",
       "      <th></th>\n",
       "    </tr>\n",
       "  </thead>\n",
       "  <tbody>\n",
       "    <tr>\n",
       "      <th>7590-VHVEG</th>\n",
       "      <td>2020-01-01</td>\n",
       "      <td>No</td>\n",
       "      <td>Month-to-month</td>\n",
       "      <td>Yes</td>\n",
       "      <td>Electronic check</td>\n",
       "      <td>29.85</td>\n",
       "      <td>29.85</td>\n",
       "      <td>Female</td>\n",
       "      <td>0</td>\n",
       "      <td>Yes</td>\n",
       "      <td>No</td>\n",
       "      <td>DSL</td>\n",
       "      <td>No</td>\n",
       "      <td>Yes</td>\n",
       "      <td>No</td>\n",
       "      <td>No</td>\n",
       "      <td>No</td>\n",
       "      <td>No</td>\n",
       "      <td>NaN</td>\n",
       "    </tr>\n",
       "    <tr>\n",
       "      <th>5575-GNVDE</th>\n",
       "      <td>2017-04-01</td>\n",
       "      <td>No</td>\n",
       "      <td>One year</td>\n",
       "      <td>No</td>\n",
       "      <td>Mailed check</td>\n",
       "      <td>56.95</td>\n",
       "      <td>1889.5</td>\n",
       "      <td>Male</td>\n",
       "      <td>0</td>\n",
       "      <td>No</td>\n",
       "      <td>No</td>\n",
       "      <td>DSL</td>\n",
       "      <td>Yes</td>\n",
       "      <td>No</td>\n",
       "      <td>Yes</td>\n",
       "      <td>No</td>\n",
       "      <td>No</td>\n",
       "      <td>No</td>\n",
       "      <td>No</td>\n",
       "    </tr>\n",
       "    <tr>\n",
       "      <th>3668-QPYBK</th>\n",
       "      <td>2019-10-01</td>\n",
       "      <td>2019-12-01 00:00:00</td>\n",
       "      <td>Month-to-month</td>\n",
       "      <td>Yes</td>\n",
       "      <td>Mailed check</td>\n",
       "      <td>53.85</td>\n",
       "      <td>108.15</td>\n",
       "      <td>Male</td>\n",
       "      <td>0</td>\n",
       "      <td>No</td>\n",
       "      <td>No</td>\n",
       "      <td>DSL</td>\n",
       "      <td>Yes</td>\n",
       "      <td>Yes</td>\n",
       "      <td>No</td>\n",
       "      <td>No</td>\n",
       "      <td>No</td>\n",
       "      <td>No</td>\n",
       "      <td>No</td>\n",
       "    </tr>\n",
       "    <tr>\n",
       "      <th>7795-CFOCW</th>\n",
       "      <td>2016-05-01</td>\n",
       "      <td>No</td>\n",
       "      <td>One year</td>\n",
       "      <td>No</td>\n",
       "      <td>Bank transfer (automatic)</td>\n",
       "      <td>42.30</td>\n",
       "      <td>1840.75</td>\n",
       "      <td>Male</td>\n",
       "      <td>0</td>\n",
       "      <td>No</td>\n",
       "      <td>No</td>\n",
       "      <td>DSL</td>\n",
       "      <td>Yes</td>\n",
       "      <td>No</td>\n",
       "      <td>Yes</td>\n",
       "      <td>Yes</td>\n",
       "      <td>No</td>\n",
       "      <td>No</td>\n",
       "      <td>NaN</td>\n",
       "    </tr>\n",
       "    <tr>\n",
       "      <th>9237-HQITU</th>\n",
       "      <td>2019-09-01</td>\n",
       "      <td>2019-11-01 00:00:00</td>\n",
       "      <td>Month-to-month</td>\n",
       "      <td>Yes</td>\n",
       "      <td>Electronic check</td>\n",
       "      <td>70.70</td>\n",
       "      <td>151.65</td>\n",
       "      <td>Female</td>\n",
       "      <td>0</td>\n",
       "      <td>No</td>\n",
       "      <td>No</td>\n",
       "      <td>Fiber optic</td>\n",
       "      <td>No</td>\n",
       "      <td>No</td>\n",
       "      <td>No</td>\n",
       "      <td>No</td>\n",
       "      <td>No</td>\n",
       "      <td>No</td>\n",
       "      <td>No</td>\n",
       "    </tr>\n",
       "  </tbody>\n",
       "</table>\n",
       "</div>"
      ],
      "text/plain": [
       "             BeginDate              EndDate            Type PaperlessBilling  \\\n",
       "customerID                                                                     \n",
       "7590-VHVEG  2020-01-01                   No  Month-to-month              Yes   \n",
       "5575-GNVDE  2017-04-01                   No        One year               No   \n",
       "3668-QPYBK  2019-10-01  2019-12-01 00:00:00  Month-to-month              Yes   \n",
       "7795-CFOCW  2016-05-01                   No        One year               No   \n",
       "9237-HQITU  2019-09-01  2019-11-01 00:00:00  Month-to-month              Yes   \n",
       "\n",
       "                        PaymentMethod  MonthlyCharges TotalCharges  gender  \\\n",
       "customerID                                                                   \n",
       "7590-VHVEG           Electronic check           29.85        29.85  Female   \n",
       "5575-GNVDE               Mailed check           56.95       1889.5    Male   \n",
       "3668-QPYBK               Mailed check           53.85       108.15    Male   \n",
       "7795-CFOCW  Bank transfer (automatic)           42.30      1840.75    Male   \n",
       "9237-HQITU           Electronic check           70.70       151.65  Female   \n",
       "\n",
       "            SeniorCitizen Partner Dependents InternetService OnlineSecurity  \\\n",
       "customerID                                                                    \n",
       "7590-VHVEG              0     Yes         No             DSL             No   \n",
       "5575-GNVDE              0      No         No             DSL            Yes   \n",
       "3668-QPYBK              0      No         No             DSL            Yes   \n",
       "7795-CFOCW              0      No         No             DSL            Yes   \n",
       "9237-HQITU              0      No         No     Fiber optic             No   \n",
       "\n",
       "           OnlineBackup DeviceProtection TechSupport StreamingTV  \\\n",
       "customerID                                                         \n",
       "7590-VHVEG          Yes               No          No          No   \n",
       "5575-GNVDE           No              Yes          No          No   \n",
       "3668-QPYBK          Yes               No          No          No   \n",
       "7795-CFOCW           No              Yes         Yes          No   \n",
       "9237-HQITU           No               No          No          No   \n",
       "\n",
       "           StreamingMovies MultipleLines  \n",
       "customerID                                \n",
       "7590-VHVEG              No           NaN  \n",
       "5575-GNVDE              No            No  \n",
       "3668-QPYBK              No            No  \n",
       "7795-CFOCW              No           NaN  \n",
       "9237-HQITU              No            No  "
      ]
     },
     "metadata": {},
     "output_type": "display_data"
    }
   ],
   "source": [
    "data.info()\n",
    "display(data.head())"
   ]
  },
  {
   "cell_type": "markdown",
   "metadata": {},
   "source": [
    "Получился датафрейм с 19 признаками один в некоторых есть пропуски, а типы данных не соответствуют реальности."
   ]
  },
  {
   "cell_type": "markdown",
   "metadata": {},
   "source": [
    "<a id='fp.6-bullet'></a> \n",
    "### 6.  Приведение столбцов к нужному типу. "
   ]
  },
  {
   "cell_type": "markdown",
   "metadata": {},
   "source": [
    "Прежде чем привести столбцы к нужным типам надо избавиться от пропусков."
   ]
  },
  {
   "cell_type": "markdown",
   "metadata": {},
   "source": [
    "Пропуски появились в тех столбцах, ктоорые при объединение оказались услугой, которой абонент не пользуется. По этому вместо пропусков целесообразно выставить значение *No*, но добавим 2 дополнительных признака *use_internet* и *use_phone*, а в столбце *InternetService* пропуски заменим на *not use*."
   ]
  },
  {
   "cell_type": "code",
   "execution_count": 10,
   "metadata": {},
   "outputs": [],
   "source": [
    "data['InternetService'] = data['InternetService'].fillna('not_use')\n",
    "data['use_internet'] = data.OnlineSecurity.fillna(0).replace(['Yes', 'No'], 1)\n",
    "data['use_phone'] = data.MultipleLines.fillna(0).replace(['Yes', 'No'], 1)"
   ]
  },
  {
   "cell_type": "code",
   "execution_count": 11,
   "metadata": {},
   "outputs": [],
   "source": [
    "data = data.fillna('No')"
   ]
  },
  {
   "cell_type": "markdown",
   "metadata": {},
   "source": [
    "Приведём к типу datetime столбец *BeginDate*:"
   ]
  },
  {
   "cell_type": "code",
   "execution_count": 12,
   "metadata": {},
   "outputs": [],
   "source": [
    "data.BeginDate = pd.to_datetime(data.BeginDate, format='%Y-%m-%d')"
   ]
  },
  {
   "cell_type": "markdown",
   "metadata": {},
   "source": [
    "Приведём к типу *float* столбцы *MonthlyCharges* и *TotalCharges*"
   ]
  },
  {
   "cell_type": "code",
   "execution_count": 13,
   "metadata": {},
   "outputs": [],
   "source": [
    "data.MonthlyCharges = data.MonthlyCharges.astype('float')"
   ]
  },
  {
   "cell_type": "markdown",
   "metadata": {},
   "source": [
    "В столбце *TotalCharges* есть не числовые значения. Это те клиенты, которые не внесли ещё ни одного платежа. Заменим их на 0 и приведём столбец к *float*."
   ]
  },
  {
   "cell_type": "code",
   "execution_count": 14,
   "metadata": {},
   "outputs": [],
   "source": [
    "data.TotalCharges = data.TotalCharges.replace(' ', '0')\n",
    "data.TotalCharges = data.TotalCharges.astype('float')"
   ]
  },
  {
   "cell_type": "code",
   "execution_count": 15,
   "metadata": {},
   "outputs": [
    {
     "name": "stdout",
     "output_type": "stream",
     "text": [
      "<class 'pandas.core.frame.DataFrame'>\n",
      "Index: 7043 entries, 7590-VHVEG to 3186-AJIEK\n",
      "Data columns (total 21 columns):\n",
      " #   Column            Non-Null Count  Dtype         \n",
      "---  ------            --------------  -----         \n",
      " 0   BeginDate         7043 non-null   datetime64[ns]\n",
      " 1   EndDate           7043 non-null   object        \n",
      " 2   Type              7043 non-null   object        \n",
      " 3   PaperlessBilling  7043 non-null   object        \n",
      " 4   PaymentMethod     7043 non-null   object        \n",
      " 5   MonthlyCharges    7043 non-null   float64       \n",
      " 6   TotalCharges      7043 non-null   float64       \n",
      " 7   gender            7043 non-null   object        \n",
      " 8   SeniorCitizen     7043 non-null   int64         \n",
      " 9   Partner           7043 non-null   object        \n",
      " 10  Dependents        7043 non-null   object        \n",
      " 11  InternetService   7043 non-null   object        \n",
      " 12  OnlineSecurity    7043 non-null   object        \n",
      " 13  OnlineBackup      7043 non-null   object        \n",
      " 14  DeviceProtection  7043 non-null   object        \n",
      " 15  TechSupport       7043 non-null   object        \n",
      " 16  StreamingTV       7043 non-null   object        \n",
      " 17  StreamingMovies   7043 non-null   object        \n",
      " 18  MultipleLines     7043 non-null   object        \n",
      " 19  use_internet      7043 non-null   int64         \n",
      " 20  use_phone         7043 non-null   int64         \n",
      "dtypes: datetime64[ns](1), float64(2), int64(3), object(15)\n",
      "memory usage: 1.5+ MB\n"
     ]
    }
   ],
   "source": [
    "data.info()"
   ]
  },
  {
   "cell_type": "code",
   "execution_count": 16,
   "metadata": {},
   "outputs": [
    {
     "data": {
      "text/html": [
       "<div>\n",
       "<style scoped>\n",
       "    .dataframe tbody tr th:only-of-type {\n",
       "        vertical-align: middle;\n",
       "    }\n",
       "\n",
       "    .dataframe tbody tr th {\n",
       "        vertical-align: top;\n",
       "    }\n",
       "\n",
       "    .dataframe thead th {\n",
       "        text-align: right;\n",
       "    }\n",
       "</style>\n",
       "<table border=\"1\" class=\"dataframe\">\n",
       "  <thead>\n",
       "    <tr style=\"text-align: right;\">\n",
       "      <th></th>\n",
       "      <th>BeginDate</th>\n",
       "      <th>EndDate</th>\n",
       "      <th>Type</th>\n",
       "      <th>PaperlessBilling</th>\n",
       "      <th>PaymentMethod</th>\n",
       "      <th>MonthlyCharges</th>\n",
       "      <th>TotalCharges</th>\n",
       "      <th>gender</th>\n",
       "      <th>SeniorCitizen</th>\n",
       "      <th>Partner</th>\n",
       "      <th>...</th>\n",
       "      <th>InternetService</th>\n",
       "      <th>OnlineSecurity</th>\n",
       "      <th>OnlineBackup</th>\n",
       "      <th>DeviceProtection</th>\n",
       "      <th>TechSupport</th>\n",
       "      <th>StreamingTV</th>\n",
       "      <th>StreamingMovies</th>\n",
       "      <th>MultipleLines</th>\n",
       "      <th>use_internet</th>\n",
       "      <th>use_phone</th>\n",
       "    </tr>\n",
       "    <tr>\n",
       "      <th>customerID</th>\n",
       "      <th></th>\n",
       "      <th></th>\n",
       "      <th></th>\n",
       "      <th></th>\n",
       "      <th></th>\n",
       "      <th></th>\n",
       "      <th></th>\n",
       "      <th></th>\n",
       "      <th></th>\n",
       "      <th></th>\n",
       "      <th></th>\n",
       "      <th></th>\n",
       "      <th></th>\n",
       "      <th></th>\n",
       "      <th></th>\n",
       "      <th></th>\n",
       "      <th></th>\n",
       "      <th></th>\n",
       "      <th></th>\n",
       "      <th></th>\n",
       "      <th></th>\n",
       "    </tr>\n",
       "  </thead>\n",
       "  <tbody>\n",
       "    <tr>\n",
       "      <th>7590-VHVEG</th>\n",
       "      <td>2020-01-01</td>\n",
       "      <td>No</td>\n",
       "      <td>Month-to-month</td>\n",
       "      <td>Yes</td>\n",
       "      <td>Electronic check</td>\n",
       "      <td>29.85</td>\n",
       "      <td>29.85</td>\n",
       "      <td>Female</td>\n",
       "      <td>0</td>\n",
       "      <td>Yes</td>\n",
       "      <td>...</td>\n",
       "      <td>DSL</td>\n",
       "      <td>No</td>\n",
       "      <td>Yes</td>\n",
       "      <td>No</td>\n",
       "      <td>No</td>\n",
       "      <td>No</td>\n",
       "      <td>No</td>\n",
       "      <td>No</td>\n",
       "      <td>1</td>\n",
       "      <td>0</td>\n",
       "    </tr>\n",
       "    <tr>\n",
       "      <th>5575-GNVDE</th>\n",
       "      <td>2017-04-01</td>\n",
       "      <td>No</td>\n",
       "      <td>One year</td>\n",
       "      <td>No</td>\n",
       "      <td>Mailed check</td>\n",
       "      <td>56.95</td>\n",
       "      <td>1889.50</td>\n",
       "      <td>Male</td>\n",
       "      <td>0</td>\n",
       "      <td>No</td>\n",
       "      <td>...</td>\n",
       "      <td>DSL</td>\n",
       "      <td>Yes</td>\n",
       "      <td>No</td>\n",
       "      <td>Yes</td>\n",
       "      <td>No</td>\n",
       "      <td>No</td>\n",
       "      <td>No</td>\n",
       "      <td>No</td>\n",
       "      <td>1</td>\n",
       "      <td>1</td>\n",
       "    </tr>\n",
       "    <tr>\n",
       "      <th>3668-QPYBK</th>\n",
       "      <td>2019-10-01</td>\n",
       "      <td>2019-12-01 00:00:00</td>\n",
       "      <td>Month-to-month</td>\n",
       "      <td>Yes</td>\n",
       "      <td>Mailed check</td>\n",
       "      <td>53.85</td>\n",
       "      <td>108.15</td>\n",
       "      <td>Male</td>\n",
       "      <td>0</td>\n",
       "      <td>No</td>\n",
       "      <td>...</td>\n",
       "      <td>DSL</td>\n",
       "      <td>Yes</td>\n",
       "      <td>Yes</td>\n",
       "      <td>No</td>\n",
       "      <td>No</td>\n",
       "      <td>No</td>\n",
       "      <td>No</td>\n",
       "      <td>No</td>\n",
       "      <td>1</td>\n",
       "      <td>1</td>\n",
       "    </tr>\n",
       "    <tr>\n",
       "      <th>7795-CFOCW</th>\n",
       "      <td>2016-05-01</td>\n",
       "      <td>No</td>\n",
       "      <td>One year</td>\n",
       "      <td>No</td>\n",
       "      <td>Bank transfer (automatic)</td>\n",
       "      <td>42.30</td>\n",
       "      <td>1840.75</td>\n",
       "      <td>Male</td>\n",
       "      <td>0</td>\n",
       "      <td>No</td>\n",
       "      <td>...</td>\n",
       "      <td>DSL</td>\n",
       "      <td>Yes</td>\n",
       "      <td>No</td>\n",
       "      <td>Yes</td>\n",
       "      <td>Yes</td>\n",
       "      <td>No</td>\n",
       "      <td>No</td>\n",
       "      <td>No</td>\n",
       "      <td>1</td>\n",
       "      <td>0</td>\n",
       "    </tr>\n",
       "    <tr>\n",
       "      <th>9237-HQITU</th>\n",
       "      <td>2019-09-01</td>\n",
       "      <td>2019-11-01 00:00:00</td>\n",
       "      <td>Month-to-month</td>\n",
       "      <td>Yes</td>\n",
       "      <td>Electronic check</td>\n",
       "      <td>70.70</td>\n",
       "      <td>151.65</td>\n",
       "      <td>Female</td>\n",
       "      <td>0</td>\n",
       "      <td>No</td>\n",
       "      <td>...</td>\n",
       "      <td>Fiber optic</td>\n",
       "      <td>No</td>\n",
       "      <td>No</td>\n",
       "      <td>No</td>\n",
       "      <td>No</td>\n",
       "      <td>No</td>\n",
       "      <td>No</td>\n",
       "      <td>No</td>\n",
       "      <td>1</td>\n",
       "      <td>1</td>\n",
       "    </tr>\n",
       "  </tbody>\n",
       "</table>\n",
       "<p>5 rows × 21 columns</p>\n",
       "</div>"
      ],
      "text/plain": [
       "            BeginDate              EndDate            Type PaperlessBilling  \\\n",
       "customerID                                                                    \n",
       "7590-VHVEG 2020-01-01                   No  Month-to-month              Yes   \n",
       "5575-GNVDE 2017-04-01                   No        One year               No   \n",
       "3668-QPYBK 2019-10-01  2019-12-01 00:00:00  Month-to-month              Yes   \n",
       "7795-CFOCW 2016-05-01                   No        One year               No   \n",
       "9237-HQITU 2019-09-01  2019-11-01 00:00:00  Month-to-month              Yes   \n",
       "\n",
       "                        PaymentMethod  MonthlyCharges  TotalCharges  gender  \\\n",
       "customerID                                                                    \n",
       "7590-VHVEG           Electronic check           29.85         29.85  Female   \n",
       "5575-GNVDE               Mailed check           56.95       1889.50    Male   \n",
       "3668-QPYBK               Mailed check           53.85        108.15    Male   \n",
       "7795-CFOCW  Bank transfer (automatic)           42.30       1840.75    Male   \n",
       "9237-HQITU           Electronic check           70.70        151.65  Female   \n",
       "\n",
       "            SeniorCitizen Partner  ... InternetService OnlineSecurity  \\\n",
       "customerID                         ...                                  \n",
       "7590-VHVEG              0     Yes  ...             DSL             No   \n",
       "5575-GNVDE              0      No  ...             DSL            Yes   \n",
       "3668-QPYBK              0      No  ...             DSL            Yes   \n",
       "7795-CFOCW              0      No  ...             DSL            Yes   \n",
       "9237-HQITU              0      No  ...     Fiber optic             No   \n",
       "\n",
       "           OnlineBackup DeviceProtection TechSupport StreamingTV  \\\n",
       "customerID                                                         \n",
       "7590-VHVEG          Yes               No          No          No   \n",
       "5575-GNVDE           No              Yes          No          No   \n",
       "3668-QPYBK          Yes               No          No          No   \n",
       "7795-CFOCW           No              Yes         Yes          No   \n",
       "9237-HQITU           No               No          No          No   \n",
       "\n",
       "           StreamingMovies MultipleLines use_internet  use_phone  \n",
       "customerID                                                        \n",
       "7590-VHVEG              No            No            1          0  \n",
       "5575-GNVDE              No            No            1          1  \n",
       "3668-QPYBK              No            No            1          1  \n",
       "7795-CFOCW              No            No            1          0  \n",
       "9237-HQITU              No            No            1          1  \n",
       "\n",
       "[5 rows x 21 columns]"
      ]
     },
     "execution_count": 16,
     "metadata": {},
     "output_type": "execute_result"
    }
   ],
   "source": [
    "data.head()"
   ]
  },
  {
   "cell_type": "markdown",
   "metadata": {},
   "source": [
    "Проверим значения в столбце *PaymentMethod*"
   ]
  },
  {
   "cell_type": "code",
   "execution_count": 17,
   "metadata": {},
   "outputs": [
    {
     "data": {
      "text/plain": [
       "array(['Electronic check', 'Mailed check', 'Bank transfer (automatic)',\n",
       "       'Credit card (automatic)'], dtype=object)"
      ]
     },
     "execution_count": 17,
     "metadata": {},
     "output_type": "execute_result"
    }
   ],
   "source": [
    "data.PaymentMethod.unique()"
   ]
  },
  {
   "cell_type": "markdown",
   "metadata": {},
   "source": [
    "Проверим значения в столбце *gender*"
   ]
  },
  {
   "cell_type": "code",
   "execution_count": 18,
   "metadata": {},
   "outputs": [
    {
     "data": {
      "text/plain": [
       "array(['Female', 'Male'], dtype=object)"
      ]
     },
     "execution_count": 18,
     "metadata": {},
     "output_type": "execute_result"
    }
   ],
   "source": [
    "data.gender.unique()"
   ]
  },
  {
   "cell_type": "markdown",
   "metadata": {},
   "source": [
    "Предварительных преобразований эти столбцы не требуют"
   ]
  },
  {
   "cell_type": "code",
   "execution_count": 19,
   "metadata": {},
   "outputs": [
    {
     "name": "stdout",
     "output_type": "stream",
     "text": [
      "<class 'pandas.core.frame.DataFrame'>\n",
      "Index: 7043 entries, 7590-VHVEG to 3186-AJIEK\n",
      "Data columns (total 21 columns):\n",
      " #   Column            Non-Null Count  Dtype         \n",
      "---  ------            --------------  -----         \n",
      " 0   BeginDate         7043 non-null   datetime64[ns]\n",
      " 1   EndDate           7043 non-null   object        \n",
      " 2   Type              7043 non-null   object        \n",
      " 3   PaperlessBilling  7043 non-null   object        \n",
      " 4   PaymentMethod     7043 non-null   object        \n",
      " 5   MonthlyCharges    7043 non-null   float64       \n",
      " 6   TotalCharges      7043 non-null   float64       \n",
      " 7   gender            7043 non-null   object        \n",
      " 8   SeniorCitizen     7043 non-null   int64         \n",
      " 9   Partner           7043 non-null   object        \n",
      " 10  Dependents        7043 non-null   object        \n",
      " 11  InternetService   7043 non-null   object        \n",
      " 12  OnlineSecurity    7043 non-null   object        \n",
      " 13  OnlineBackup      7043 non-null   object        \n",
      " 14  DeviceProtection  7043 non-null   object        \n",
      " 15  TechSupport       7043 non-null   object        \n",
      " 16  StreamingTV       7043 non-null   object        \n",
      " 17  StreamingMovies   7043 non-null   object        \n",
      " 18  MultipleLines     7043 non-null   object        \n",
      " 19  use_internet      7043 non-null   int64         \n",
      " 20  use_phone         7043 non-null   int64         \n",
      "dtypes: datetime64[ns](1), float64(2), int64(3), object(15)\n",
      "memory usage: 1.5+ MB\n"
     ]
    }
   ],
   "source": [
    "data.info()"
   ]
  },
  {
   "cell_type": "markdown",
   "metadata": {},
   "source": [
    "<a id='fp.7-bullet'></a> \n",
    "### 7. Добавление новых признаков. "
   ]
  },
  {
   "cell_type": "markdown",
   "metadata": {},
   "source": [
    "Добавим 2 новых признака:\n",
    "\n",
    "1) *outflow* - ушёл/не ушёл клиент. Заполним его значениями 0 - не ушёл, 1 - ушёл.\n",
    "\n",
    "2) \"time_life\" Время которое клиент был клиентом оператора."
   ]
  },
  {
   "cell_type": "markdown",
   "metadata": {},
   "source": [
    "#### Создадим признак outflow"
   ]
  },
  {
   "cell_type": "code",
   "execution_count": 20,
   "metadata": {},
   "outputs": [],
   "source": [
    "data['outflow'] = 0\n",
    "data.outflow = data[data.EndDate != 'No'].outflow.replace(0, 1)\n",
    "data.outflow = data.outflow.fillna(0).astype('int')"
   ]
  },
  {
   "cell_type": "markdown",
   "metadata": {},
   "source": [
    "#### Создадим признак time_life"
   ]
  },
  {
   "cell_type": "code",
   "execution_count": 21,
   "metadata": {},
   "outputs": [],
   "source": [
    "data.EndDate = data.EndDate.replace('No', '2020-02-01')\n",
    "data.EndDate = pd.to_datetime(data.EndDate, format='%Y-%m-%d')\n",
    "data['time_life'] = (data.EndDate - data.BeginDate).dt.days"
   ]
  },
  {
   "cell_type": "markdown",
   "metadata": {},
   "source": [
    "#### Удалим лишние признаки: *BeginDate* и *EndDate*"
   ]
  },
  {
   "cell_type": "code",
   "execution_count": 22,
   "metadata": {},
   "outputs": [],
   "source": [
    "data = data.drop(['BeginDate', 'EndDate'], axis=1)"
   ]
  },
  {
   "cell_type": "code",
   "execution_count": 23,
   "metadata": {},
   "outputs": [
    {
     "data": {
      "text/html": [
       "<div>\n",
       "<style scoped>\n",
       "    .dataframe tbody tr th:only-of-type {\n",
       "        vertical-align: middle;\n",
       "    }\n",
       "\n",
       "    .dataframe tbody tr th {\n",
       "        vertical-align: top;\n",
       "    }\n",
       "\n",
       "    .dataframe thead th {\n",
       "        text-align: right;\n",
       "    }\n",
       "</style>\n",
       "<table border=\"1\" class=\"dataframe\">\n",
       "  <thead>\n",
       "    <tr style=\"text-align: right;\">\n",
       "      <th></th>\n",
       "      <th>Type</th>\n",
       "      <th>PaperlessBilling</th>\n",
       "      <th>PaymentMethod</th>\n",
       "      <th>MonthlyCharges</th>\n",
       "      <th>TotalCharges</th>\n",
       "      <th>gender</th>\n",
       "      <th>SeniorCitizen</th>\n",
       "      <th>Partner</th>\n",
       "      <th>Dependents</th>\n",
       "      <th>InternetService</th>\n",
       "      <th>...</th>\n",
       "      <th>OnlineBackup</th>\n",
       "      <th>DeviceProtection</th>\n",
       "      <th>TechSupport</th>\n",
       "      <th>StreamingTV</th>\n",
       "      <th>StreamingMovies</th>\n",
       "      <th>MultipleLines</th>\n",
       "      <th>use_internet</th>\n",
       "      <th>use_phone</th>\n",
       "      <th>outflow</th>\n",
       "      <th>time_life</th>\n",
       "    </tr>\n",
       "    <tr>\n",
       "      <th>customerID</th>\n",
       "      <th></th>\n",
       "      <th></th>\n",
       "      <th></th>\n",
       "      <th></th>\n",
       "      <th></th>\n",
       "      <th></th>\n",
       "      <th></th>\n",
       "      <th></th>\n",
       "      <th></th>\n",
       "      <th></th>\n",
       "      <th></th>\n",
       "      <th></th>\n",
       "      <th></th>\n",
       "      <th></th>\n",
       "      <th></th>\n",
       "      <th></th>\n",
       "      <th></th>\n",
       "      <th></th>\n",
       "      <th></th>\n",
       "      <th></th>\n",
       "      <th></th>\n",
       "    </tr>\n",
       "  </thead>\n",
       "  <tbody>\n",
       "    <tr>\n",
       "      <th>7590-VHVEG</th>\n",
       "      <td>Month-to-month</td>\n",
       "      <td>Yes</td>\n",
       "      <td>Electronic check</td>\n",
       "      <td>29.85</td>\n",
       "      <td>29.85</td>\n",
       "      <td>Female</td>\n",
       "      <td>0</td>\n",
       "      <td>Yes</td>\n",
       "      <td>No</td>\n",
       "      <td>DSL</td>\n",
       "      <td>...</td>\n",
       "      <td>Yes</td>\n",
       "      <td>No</td>\n",
       "      <td>No</td>\n",
       "      <td>No</td>\n",
       "      <td>No</td>\n",
       "      <td>No</td>\n",
       "      <td>1</td>\n",
       "      <td>0</td>\n",
       "      <td>0</td>\n",
       "      <td>31</td>\n",
       "    </tr>\n",
       "    <tr>\n",
       "      <th>5575-GNVDE</th>\n",
       "      <td>One year</td>\n",
       "      <td>No</td>\n",
       "      <td>Mailed check</td>\n",
       "      <td>56.95</td>\n",
       "      <td>1889.50</td>\n",
       "      <td>Male</td>\n",
       "      <td>0</td>\n",
       "      <td>No</td>\n",
       "      <td>No</td>\n",
       "      <td>DSL</td>\n",
       "      <td>...</td>\n",
       "      <td>No</td>\n",
       "      <td>Yes</td>\n",
       "      <td>No</td>\n",
       "      <td>No</td>\n",
       "      <td>No</td>\n",
       "      <td>No</td>\n",
       "      <td>1</td>\n",
       "      <td>1</td>\n",
       "      <td>0</td>\n",
       "      <td>1036</td>\n",
       "    </tr>\n",
       "    <tr>\n",
       "      <th>3668-QPYBK</th>\n",
       "      <td>Month-to-month</td>\n",
       "      <td>Yes</td>\n",
       "      <td>Mailed check</td>\n",
       "      <td>53.85</td>\n",
       "      <td>108.15</td>\n",
       "      <td>Male</td>\n",
       "      <td>0</td>\n",
       "      <td>No</td>\n",
       "      <td>No</td>\n",
       "      <td>DSL</td>\n",
       "      <td>...</td>\n",
       "      <td>Yes</td>\n",
       "      <td>No</td>\n",
       "      <td>No</td>\n",
       "      <td>No</td>\n",
       "      <td>No</td>\n",
       "      <td>No</td>\n",
       "      <td>1</td>\n",
       "      <td>1</td>\n",
       "      <td>1</td>\n",
       "      <td>61</td>\n",
       "    </tr>\n",
       "    <tr>\n",
       "      <th>7795-CFOCW</th>\n",
       "      <td>One year</td>\n",
       "      <td>No</td>\n",
       "      <td>Bank transfer (automatic)</td>\n",
       "      <td>42.30</td>\n",
       "      <td>1840.75</td>\n",
       "      <td>Male</td>\n",
       "      <td>0</td>\n",
       "      <td>No</td>\n",
       "      <td>No</td>\n",
       "      <td>DSL</td>\n",
       "      <td>...</td>\n",
       "      <td>No</td>\n",
       "      <td>Yes</td>\n",
       "      <td>Yes</td>\n",
       "      <td>No</td>\n",
       "      <td>No</td>\n",
       "      <td>No</td>\n",
       "      <td>1</td>\n",
       "      <td>0</td>\n",
       "      <td>0</td>\n",
       "      <td>1371</td>\n",
       "    </tr>\n",
       "    <tr>\n",
       "      <th>9237-HQITU</th>\n",
       "      <td>Month-to-month</td>\n",
       "      <td>Yes</td>\n",
       "      <td>Electronic check</td>\n",
       "      <td>70.70</td>\n",
       "      <td>151.65</td>\n",
       "      <td>Female</td>\n",
       "      <td>0</td>\n",
       "      <td>No</td>\n",
       "      <td>No</td>\n",
       "      <td>Fiber optic</td>\n",
       "      <td>...</td>\n",
       "      <td>No</td>\n",
       "      <td>No</td>\n",
       "      <td>No</td>\n",
       "      <td>No</td>\n",
       "      <td>No</td>\n",
       "      <td>No</td>\n",
       "      <td>1</td>\n",
       "      <td>1</td>\n",
       "      <td>1</td>\n",
       "      <td>61</td>\n",
       "    </tr>\n",
       "  </tbody>\n",
       "</table>\n",
       "<p>5 rows × 21 columns</p>\n",
       "</div>"
      ],
      "text/plain": [
       "                      Type PaperlessBilling              PaymentMethod  \\\n",
       "customerID                                                               \n",
       "7590-VHVEG  Month-to-month              Yes           Electronic check   \n",
       "5575-GNVDE        One year               No               Mailed check   \n",
       "3668-QPYBK  Month-to-month              Yes               Mailed check   \n",
       "7795-CFOCW        One year               No  Bank transfer (automatic)   \n",
       "9237-HQITU  Month-to-month              Yes           Electronic check   \n",
       "\n",
       "            MonthlyCharges  TotalCharges  gender  SeniorCitizen Partner  \\\n",
       "customerID                                                                \n",
       "7590-VHVEG           29.85         29.85  Female              0     Yes   \n",
       "5575-GNVDE           56.95       1889.50    Male              0      No   \n",
       "3668-QPYBK           53.85        108.15    Male              0      No   \n",
       "7795-CFOCW           42.30       1840.75    Male              0      No   \n",
       "9237-HQITU           70.70        151.65  Female              0      No   \n",
       "\n",
       "           Dependents InternetService  ... OnlineBackup DeviceProtection  \\\n",
       "customerID                             ...                                 \n",
       "7590-VHVEG         No             DSL  ...          Yes               No   \n",
       "5575-GNVDE         No             DSL  ...           No              Yes   \n",
       "3668-QPYBK         No             DSL  ...          Yes               No   \n",
       "7795-CFOCW         No             DSL  ...           No              Yes   \n",
       "9237-HQITU         No     Fiber optic  ...           No               No   \n",
       "\n",
       "           TechSupport StreamingTV StreamingMovies MultipleLines use_internet  \\\n",
       "customerID                                                                      \n",
       "7590-VHVEG          No          No              No            No            1   \n",
       "5575-GNVDE          No          No              No            No            1   \n",
       "3668-QPYBK          No          No              No            No            1   \n",
       "7795-CFOCW         Yes          No              No            No            1   \n",
       "9237-HQITU          No          No              No            No            1   \n",
       "\n",
       "            use_phone  outflow  time_life  \n",
       "customerID                                 \n",
       "7590-VHVEG          0        0         31  \n",
       "5575-GNVDE          1        0       1036  \n",
       "3668-QPYBK          1        1         61  \n",
       "7795-CFOCW          0        0       1371  \n",
       "9237-HQITU          1        1         61  \n",
       "\n",
       "[5 rows x 21 columns]"
      ]
     },
     "execution_count": 23,
     "metadata": {},
     "output_type": "execute_result"
    }
   ],
   "source": [
    "data.head()"
   ]
  },
  {
   "cell_type": "markdown",
   "metadata": {},
   "source": [
    "#### Поменяем в таблице значения **Yes** и **No** на 1 и 0, соответственно, тем самым приведём соответствующие столбцы к типу *int*"
   ]
  },
  {
   "cell_type": "code",
   "execution_count": 24,
   "metadata": {},
   "outputs": [],
   "source": [
    "data = data.replace('Yes', 1).replace('No', 0)"
   ]
  },
  {
   "cell_type": "markdown",
   "metadata": {},
   "source": [
    "#### Проверка результатов преобразований"
   ]
  },
  {
   "cell_type": "code",
   "execution_count": 25,
   "metadata": {},
   "outputs": [
    {
     "name": "stdout",
     "output_type": "stream",
     "text": [
      "<class 'pandas.core.frame.DataFrame'>\n",
      "Index: 7043 entries, 7590-VHVEG to 3186-AJIEK\n",
      "Data columns (total 21 columns):\n",
      " #   Column            Non-Null Count  Dtype  \n",
      "---  ------            --------------  -----  \n",
      " 0   Type              7043 non-null   object \n",
      " 1   PaperlessBilling  7043 non-null   int64  \n",
      " 2   PaymentMethod     7043 non-null   object \n",
      " 3   MonthlyCharges    7043 non-null   float64\n",
      " 4   TotalCharges      7043 non-null   float64\n",
      " 5   gender            7043 non-null   object \n",
      " 6   SeniorCitizen     7043 non-null   int64  \n",
      " 7   Partner           7043 non-null   int64  \n",
      " 8   Dependents        7043 non-null   int64  \n",
      " 9   InternetService   7043 non-null   object \n",
      " 10  OnlineSecurity    7043 non-null   int64  \n",
      " 11  OnlineBackup      7043 non-null   int64  \n",
      " 12  DeviceProtection  7043 non-null   int64  \n",
      " 13  TechSupport       7043 non-null   int64  \n",
      " 14  StreamingTV       7043 non-null   int64  \n",
      " 15  StreamingMovies   7043 non-null   int64  \n",
      " 16  MultipleLines     7043 non-null   int64  \n",
      " 17  use_internet      7043 non-null   int64  \n",
      " 18  use_phone         7043 non-null   int64  \n",
      " 19  outflow           7043 non-null   int32  \n",
      " 20  time_life         7043 non-null   int64  \n",
      "dtypes: float64(2), int32(1), int64(14), object(4)\n",
      "memory usage: 1.5+ MB\n"
     ]
    },
    {
     "data": {
      "text/html": [
       "<div>\n",
       "<style scoped>\n",
       "    .dataframe tbody tr th:only-of-type {\n",
       "        vertical-align: middle;\n",
       "    }\n",
       "\n",
       "    .dataframe tbody tr th {\n",
       "        vertical-align: top;\n",
       "    }\n",
       "\n",
       "    .dataframe thead th {\n",
       "        text-align: right;\n",
       "    }\n",
       "</style>\n",
       "<table border=\"1\" class=\"dataframe\">\n",
       "  <thead>\n",
       "    <tr style=\"text-align: right;\">\n",
       "      <th></th>\n",
       "      <th>Type</th>\n",
       "      <th>PaperlessBilling</th>\n",
       "      <th>PaymentMethod</th>\n",
       "      <th>MonthlyCharges</th>\n",
       "      <th>TotalCharges</th>\n",
       "      <th>gender</th>\n",
       "      <th>SeniorCitizen</th>\n",
       "      <th>Partner</th>\n",
       "      <th>Dependents</th>\n",
       "      <th>InternetService</th>\n",
       "      <th>...</th>\n",
       "      <th>OnlineBackup</th>\n",
       "      <th>DeviceProtection</th>\n",
       "      <th>TechSupport</th>\n",
       "      <th>StreamingTV</th>\n",
       "      <th>StreamingMovies</th>\n",
       "      <th>MultipleLines</th>\n",
       "      <th>use_internet</th>\n",
       "      <th>use_phone</th>\n",
       "      <th>outflow</th>\n",
       "      <th>time_life</th>\n",
       "    </tr>\n",
       "    <tr>\n",
       "      <th>customerID</th>\n",
       "      <th></th>\n",
       "      <th></th>\n",
       "      <th></th>\n",
       "      <th></th>\n",
       "      <th></th>\n",
       "      <th></th>\n",
       "      <th></th>\n",
       "      <th></th>\n",
       "      <th></th>\n",
       "      <th></th>\n",
       "      <th></th>\n",
       "      <th></th>\n",
       "      <th></th>\n",
       "      <th></th>\n",
       "      <th></th>\n",
       "      <th></th>\n",
       "      <th></th>\n",
       "      <th></th>\n",
       "      <th></th>\n",
       "      <th></th>\n",
       "      <th></th>\n",
       "    </tr>\n",
       "  </thead>\n",
       "  <tbody>\n",
       "    <tr>\n",
       "      <th>7590-VHVEG</th>\n",
       "      <td>Month-to-month</td>\n",
       "      <td>1</td>\n",
       "      <td>Electronic check</td>\n",
       "      <td>29.85</td>\n",
       "      <td>29.85</td>\n",
       "      <td>Female</td>\n",
       "      <td>0</td>\n",
       "      <td>1</td>\n",
       "      <td>0</td>\n",
       "      <td>DSL</td>\n",
       "      <td>...</td>\n",
       "      <td>1</td>\n",
       "      <td>0</td>\n",
       "      <td>0</td>\n",
       "      <td>0</td>\n",
       "      <td>0</td>\n",
       "      <td>0</td>\n",
       "      <td>1</td>\n",
       "      <td>0</td>\n",
       "      <td>0</td>\n",
       "      <td>31</td>\n",
       "    </tr>\n",
       "    <tr>\n",
       "      <th>5575-GNVDE</th>\n",
       "      <td>One year</td>\n",
       "      <td>0</td>\n",
       "      <td>Mailed check</td>\n",
       "      <td>56.95</td>\n",
       "      <td>1889.50</td>\n",
       "      <td>Male</td>\n",
       "      <td>0</td>\n",
       "      <td>0</td>\n",
       "      <td>0</td>\n",
       "      <td>DSL</td>\n",
       "      <td>...</td>\n",
       "      <td>0</td>\n",
       "      <td>1</td>\n",
       "      <td>0</td>\n",
       "      <td>0</td>\n",
       "      <td>0</td>\n",
       "      <td>0</td>\n",
       "      <td>1</td>\n",
       "      <td>1</td>\n",
       "      <td>0</td>\n",
       "      <td>1036</td>\n",
       "    </tr>\n",
       "    <tr>\n",
       "      <th>3668-QPYBK</th>\n",
       "      <td>Month-to-month</td>\n",
       "      <td>1</td>\n",
       "      <td>Mailed check</td>\n",
       "      <td>53.85</td>\n",
       "      <td>108.15</td>\n",
       "      <td>Male</td>\n",
       "      <td>0</td>\n",
       "      <td>0</td>\n",
       "      <td>0</td>\n",
       "      <td>DSL</td>\n",
       "      <td>...</td>\n",
       "      <td>1</td>\n",
       "      <td>0</td>\n",
       "      <td>0</td>\n",
       "      <td>0</td>\n",
       "      <td>0</td>\n",
       "      <td>0</td>\n",
       "      <td>1</td>\n",
       "      <td>1</td>\n",
       "      <td>1</td>\n",
       "      <td>61</td>\n",
       "    </tr>\n",
       "    <tr>\n",
       "      <th>7795-CFOCW</th>\n",
       "      <td>One year</td>\n",
       "      <td>0</td>\n",
       "      <td>Bank transfer (automatic)</td>\n",
       "      <td>42.30</td>\n",
       "      <td>1840.75</td>\n",
       "      <td>Male</td>\n",
       "      <td>0</td>\n",
       "      <td>0</td>\n",
       "      <td>0</td>\n",
       "      <td>DSL</td>\n",
       "      <td>...</td>\n",
       "      <td>0</td>\n",
       "      <td>1</td>\n",
       "      <td>1</td>\n",
       "      <td>0</td>\n",
       "      <td>0</td>\n",
       "      <td>0</td>\n",
       "      <td>1</td>\n",
       "      <td>0</td>\n",
       "      <td>0</td>\n",
       "      <td>1371</td>\n",
       "    </tr>\n",
       "    <tr>\n",
       "      <th>9237-HQITU</th>\n",
       "      <td>Month-to-month</td>\n",
       "      <td>1</td>\n",
       "      <td>Electronic check</td>\n",
       "      <td>70.70</td>\n",
       "      <td>151.65</td>\n",
       "      <td>Female</td>\n",
       "      <td>0</td>\n",
       "      <td>0</td>\n",
       "      <td>0</td>\n",
       "      <td>Fiber optic</td>\n",
       "      <td>...</td>\n",
       "      <td>0</td>\n",
       "      <td>0</td>\n",
       "      <td>0</td>\n",
       "      <td>0</td>\n",
       "      <td>0</td>\n",
       "      <td>0</td>\n",
       "      <td>1</td>\n",
       "      <td>1</td>\n",
       "      <td>1</td>\n",
       "      <td>61</td>\n",
       "    </tr>\n",
       "  </tbody>\n",
       "</table>\n",
       "<p>5 rows × 21 columns</p>\n",
       "</div>"
      ],
      "text/plain": [
       "                      Type  PaperlessBilling              PaymentMethod  \\\n",
       "customerID                                                                \n",
       "7590-VHVEG  Month-to-month                 1           Electronic check   \n",
       "5575-GNVDE        One year                 0               Mailed check   \n",
       "3668-QPYBK  Month-to-month                 1               Mailed check   \n",
       "7795-CFOCW        One year                 0  Bank transfer (automatic)   \n",
       "9237-HQITU  Month-to-month                 1           Electronic check   \n",
       "\n",
       "            MonthlyCharges  TotalCharges  gender  SeniorCitizen  Partner  \\\n",
       "customerID                                                                 \n",
       "7590-VHVEG           29.85         29.85  Female              0        1   \n",
       "5575-GNVDE           56.95       1889.50    Male              0        0   \n",
       "3668-QPYBK           53.85        108.15    Male              0        0   \n",
       "7795-CFOCW           42.30       1840.75    Male              0        0   \n",
       "9237-HQITU           70.70        151.65  Female              0        0   \n",
       "\n",
       "            Dependents InternetService  ...  OnlineBackup  DeviceProtection  \\\n",
       "customerID                              ...                                   \n",
       "7590-VHVEG           0             DSL  ...             1                 0   \n",
       "5575-GNVDE           0             DSL  ...             0                 1   \n",
       "3668-QPYBK           0             DSL  ...             1                 0   \n",
       "7795-CFOCW           0             DSL  ...             0                 1   \n",
       "9237-HQITU           0     Fiber optic  ...             0                 0   \n",
       "\n",
       "            TechSupport  StreamingTV  StreamingMovies  MultipleLines  \\\n",
       "customerID                                                             \n",
       "7590-VHVEG            0            0                0              0   \n",
       "5575-GNVDE            0            0                0              0   \n",
       "3668-QPYBK            0            0                0              0   \n",
       "7795-CFOCW            1            0                0              0   \n",
       "9237-HQITU            0            0                0              0   \n",
       "\n",
       "            use_internet  use_phone  outflow  time_life  \n",
       "customerID                                               \n",
       "7590-VHVEG             1          0        0         31  \n",
       "5575-GNVDE             1          1        0       1036  \n",
       "3668-QPYBK             1          1        1         61  \n",
       "7795-CFOCW             1          0        0       1371  \n",
       "9237-HQITU             1          1        1         61  \n",
       "\n",
       "[5 rows x 21 columns]"
      ]
     },
     "execution_count": 25,
     "metadata": {},
     "output_type": "execute_result"
    }
   ],
   "source": [
    "data.info()\n",
    "data.head()"
   ]
  },
  {
   "cell_type": "markdown",
   "metadata": {},
   "source": [
    "Осталось 21 признак, один из которых целевой - *outflow*. Пропуски отсутствуют."
   ]
  },
  {
   "cell_type": "markdown",
   "metadata": {},
   "source": [
    "<a id='fp.8-bullet'></a> \n",
    "### 8. Анализ данных и избавление от ненужных для обучения признаков. "
   ]
  },
  {
   "cell_type": "markdown",
   "metadata": {},
   "source": [
    "##### Проверим коррелируемость признаков *MonthlyCharges*, *TotalCharges* и *time_life* между собой и с целевым признаком."
   ]
  },
  {
   "cell_type": "code",
   "execution_count": 26,
   "metadata": {},
   "outputs": [
    {
     "data": {
      "text/html": [
       "<style  type=\"text/css\" >\n",
       "#T_697b940c_04fd_11ec_a802_704d7b632d4crow0_col0,#T_697b940c_04fd_11ec_a802_704d7b632d4crow1_col1,#T_697b940c_04fd_11ec_a802_704d7b632d4crow2_col2,#T_697b940c_04fd_11ec_a802_704d7b632d4crow3_col3{\n",
       "            background-color:  #b40426;\n",
       "            color:  #f1f1f1;\n",
       "        }#T_697b940c_04fd_11ec_a802_704d7b632d4crow0_col1,#T_697b940c_04fd_11ec_a802_704d7b632d4crow0_col2,#T_697b940c_04fd_11ec_a802_704d7b632d4crow0_col3,#T_697b940c_04fd_11ec_a802_704d7b632d4crow3_col0{\n",
       "            background-color:  #3b4cc0;\n",
       "            color:  #f1f1f1;\n",
       "        }#T_697b940c_04fd_11ec_a802_704d7b632d4crow1_col0{\n",
       "            background-color:  #c1d4f4;\n",
       "            color:  #000000;\n",
       "        }#T_697b940c_04fd_11ec_a802_704d7b632d4crow1_col2{\n",
       "            background-color:  #f7a98b;\n",
       "            color:  #000000;\n",
       "        }#T_697b940c_04fd_11ec_a802_704d7b632d4crow1_col3{\n",
       "            background-color:  #cdd9ec;\n",
       "            color:  #000000;\n",
       "        }#T_697b940c_04fd_11ec_a802_704d7b632d4crow2_col0{\n",
       "            background-color:  #5e7de7;\n",
       "            color:  #000000;\n",
       "        }#T_697b940c_04fd_11ec_a802_704d7b632d4crow2_col1{\n",
       "            background-color:  #edd2c3;\n",
       "            color:  #000000;\n",
       "        }#T_697b940c_04fd_11ec_a802_704d7b632d4crow2_col3{\n",
       "            background-color:  #de614d;\n",
       "            color:  #000000;\n",
       "        }#T_697b940c_04fd_11ec_a802_704d7b632d4crow3_col1{\n",
       "            background-color:  #4f69d9;\n",
       "            color:  #000000;\n",
       "        }#T_697b940c_04fd_11ec_a802_704d7b632d4crow3_col2{\n",
       "            background-color:  #e36b54;\n",
       "            color:  #000000;\n",
       "        }</style><table id=\"T_697b940c_04fd_11ec_a802_704d7b632d4c\" ><thead>    <tr>        <th class=\"blank level0\" ></th>        <th class=\"col_heading level0 col0\" >outflow</th>        <th class=\"col_heading level0 col1\" >MonthlyCharges</th>        <th class=\"col_heading level0 col2\" >TotalCharges</th>        <th class=\"col_heading level0 col3\" >time_life</th>    </tr></thead><tbody>\n",
       "                <tr>\n",
       "                        <th id=\"T_697b940c_04fd_11ec_a802_704d7b632d4clevel0_row0\" class=\"row_heading level0 row0\" >outflow</th>\n",
       "                        <td id=\"T_697b940c_04fd_11ec_a802_704d7b632d4crow0_col0\" class=\"data row0 col0\" >1.000000</td>\n",
       "                        <td id=\"T_697b940c_04fd_11ec_a802_704d7b632d4crow0_col1\" class=\"data row0 col1\" >0.193356</td>\n",
       "                        <td id=\"T_697b940c_04fd_11ec_a802_704d7b632d4crow0_col2\" class=\"data row0 col2\" >-0.198324</td>\n",
       "                        <td id=\"T_697b940c_04fd_11ec_a802_704d7b632d4crow0_col3\" class=\"data row0 col3\" >-0.352673</td>\n",
       "            </tr>\n",
       "            <tr>\n",
       "                        <th id=\"T_697b940c_04fd_11ec_a802_704d7b632d4clevel0_row1\" class=\"row_heading level0 row1\" >MonthlyCharges</th>\n",
       "                        <td id=\"T_697b940c_04fd_11ec_a802_704d7b632d4crow1_col0\" class=\"data row1 col0\" >0.193356</td>\n",
       "                        <td id=\"T_697b940c_04fd_11ec_a802_704d7b632d4crow1_col1\" class=\"data row1 col1\" >1.000000</td>\n",
       "                        <td id=\"T_697b940c_04fd_11ec_a802_704d7b632d4crow1_col2\" class=\"data row1 col2\" >0.651174</td>\n",
       "                        <td id=\"T_697b940c_04fd_11ec_a802_704d7b632d4crow1_col3\" class=\"data row1 col3\" >0.247754</td>\n",
       "            </tr>\n",
       "            <tr>\n",
       "                        <th id=\"T_697b940c_04fd_11ec_a802_704d7b632d4clevel0_row2\" class=\"row_heading level0 row2\" >TotalCharges</th>\n",
       "                        <td id=\"T_697b940c_04fd_11ec_a802_704d7b632d4crow2_col0\" class=\"data row2 col0\" >-0.198324</td>\n",
       "                        <td id=\"T_697b940c_04fd_11ec_a802_704d7b632d4crow2_col1\" class=\"data row2 col1\" >0.651174</td>\n",
       "                        <td id=\"T_697b940c_04fd_11ec_a802_704d7b632d4crow2_col2\" class=\"data row2 col2\" >1.000000</td>\n",
       "                        <td id=\"T_697b940c_04fd_11ec_a802_704d7b632d4crow2_col3\" class=\"data row2 col3\" >0.826109</td>\n",
       "            </tr>\n",
       "            <tr>\n",
       "                        <th id=\"T_697b940c_04fd_11ec_a802_704d7b632d4clevel0_row3\" class=\"row_heading level0 row3\" >time_life</th>\n",
       "                        <td id=\"T_697b940c_04fd_11ec_a802_704d7b632d4crow3_col0\" class=\"data row3 col0\" >-0.352673</td>\n",
       "                        <td id=\"T_697b940c_04fd_11ec_a802_704d7b632d4crow3_col1\" class=\"data row3 col1\" >0.247754</td>\n",
       "                        <td id=\"T_697b940c_04fd_11ec_a802_704d7b632d4crow3_col2\" class=\"data row3 col2\" >0.826109</td>\n",
       "                        <td id=\"T_697b940c_04fd_11ec_a802_704d7b632d4crow3_col3\" class=\"data row3 col3\" >1.000000</td>\n",
       "            </tr>\n",
       "    </tbody></table>"
      ],
      "text/plain": [
       "<pandas.io.formats.style.Styler at 0x26578606d90>"
      ]
     },
     "metadata": {},
     "output_type": "display_data"
    }
   ],
   "source": [
    "df = data[['outflow', 'MonthlyCharges', 'TotalCharges', 'time_life']].corr().sort_values(by = 'outflow', ascending = False)\n",
    "df = df.sort_values(df.index[0], axis=1, ascending = False)\n",
    "display(df.style.background_gradient(cmap = 'coolwarm'))"
   ]
  },
  {
   "cell_type": "markdown",
   "metadata": {},
   "source": [
    "Достаточно большая корреляция у признака *TotalCharges* с *MonthlyCharges*, что не удивительно и с *time_life* что тоже вполне естественно. Можно признак *TotalCharges* исключить из набора ддля обучения, так как его вполне успешно заменят оставшиеся признаки."
   ]
  },
  {
   "cell_type": "code",
   "execution_count": 27,
   "metadata": {},
   "outputs": [],
   "source": [
    "data = data.drop('TotalCharges', axis=1)"
   ]
  },
  {
   "cell_type": "markdown",
   "metadata": {},
   "source": [
    "##### Сравним распределение различных признаков у ушедшей группы клиентов и у всех клиентов, если распределения +/- совпадают, то этот признак не влияет на результат."
   ]
  },
  {
   "cell_type": "code",
   "execution_count": 28,
   "metadata": {},
   "outputs": [],
   "source": [
    "df = data[data.outflow == 1].drop('outflow', axis=1)"
   ]
  },
  {
   "cell_type": "code",
   "execution_count": 29,
   "metadata": {},
   "outputs": [
    {
     "data": {
      "image/png": "[encoded data removed]",
      "text/plain": [
       "<Figure size 864x576 with 19 Axes>"
      ]
     },
     "metadata": {},
     "output_type": "display_data"
    }
   ],
   "source": [
    "fig = plt.figure(figsize=(12, 8))\n",
    "fig.suptitle('Распределения значений признаков среди ушедшей группы клиентов', fontsize=16)\n",
    "for i in range(df.shape[1]):\n",
    "    col = df.columns[i]\n",
    "    ax = fig.add_subplot(4, 5, i + 1)\n",
    "    plt.hist([df[col], data[col]], density=1)\n",
    "    plt.xticks([])\n",
    "    plt.yticks([])\n",
    "    plt.title(col, fontsize=12)"
   ]
  },
  {
   "cell_type": "markdown",
   "metadata": {},
   "source": [
    "По графикам видно, что распределения среди всех клиентов и ушедших практически одинаковые у признаков *gender*, *OnlineBackup*, *DeviceProtection*, *StreamingTV*, *StreamingMovies*, *MultipleLines* и *use_phone*. Удалим эти признаки, как неинформационные для нашей задачи."
   ]
  },
  {
   "cell_type": "code",
   "execution_count": 30,
   "metadata": {},
   "outputs": [],
   "source": [
    "data = data.drop(['gender', 'SeniorCitizen', 'OnlineBackup', 'DeviceProtection', 'StreamingTV', 'StreamingMovies', 'MultipleLines', 'use_phone'], axis=1)"
   ]
  },
  {
   "cell_type": "code",
   "execution_count": 31,
   "metadata": {},
   "outputs": [
    {
     "name": "stdout",
     "output_type": "stream",
     "text": [
      "<class 'pandas.core.frame.DataFrame'>\n",
      "Index: 7043 entries, 7590-VHVEG to 3186-AJIEK\n",
      "Data columns (total 12 columns):\n",
      " #   Column            Non-Null Count  Dtype  \n",
      "---  ------            --------------  -----  \n",
      " 0   Type              7043 non-null   object \n",
      " 1   PaperlessBilling  7043 non-null   int64  \n",
      " 2   PaymentMethod     7043 non-null   object \n",
      " 3   MonthlyCharges    7043 non-null   float64\n",
      " 4   Partner           7043 non-null   int64  \n",
      " 5   Dependents        7043 non-null   int64  \n",
      " 6   InternetService   7043 non-null   object \n",
      " 7   OnlineSecurity    7043 non-null   int64  \n",
      " 8   TechSupport       7043 non-null   int64  \n",
      " 9   use_internet      7043 non-null   int64  \n",
      " 10  outflow           7043 non-null   int32  \n",
      " 11  time_life         7043 non-null   int64  \n",
      "dtypes: float64(1), int32(1), int64(7), object(3)\n",
      "memory usage: 1007.8+ KB\n"
     ]
    }
   ],
   "source": [
    "data.info()"
   ]
  },
  {
   "cell_type": "markdown",
   "metadata": {},
   "source": [
    "<a id='fp.9-bullet'></a> \n",
    "### 9. Вывод. "
   ]
  },
  {
   "cell_type": "markdown",
   "metadata": {},
   "source": [
    "В результате анализа данных и их преобразований осталось кроме целевого ещё 12 признаков. 2 численных признака - **MonthlyCharges** и **time_life**, остальные категориальные, при чём преобразование требуется только по трём признакам - **Type**, **PaymentMethod** и **InternetService**.\n",
    "\n",
    "Уже на данногм этапе заметно что уходит относительно много тех кто в месяц платил за услуги не много и те кто достаточно малый срок был клиентом компании и очень зависит от того какой тип оплаты у клиента. Данный признак можно рассмотреть отдельно для уточнения:"
   ]
  },
  {
   "cell_type": "code",
   "execution_count": 32,
   "metadata": {},
   "outputs": [],
   "source": [
    "def plot_show(xlabel='Тип оплаты', ylabel='Количество клиентов', title=''):\n",
    "    plt.gca().set(xlabel=xlabel, ylabel=ylabel)\n",
    "    plt.xticks(fontsize=12); plt.yticks(fontsize=12)\n",
    "    plt.title(title, fontsize=16)\n",
    "    plt.show()"
   ]
  },
  {
   "cell_type": "code",
   "execution_count": 33,
   "metadata": {},
   "outputs": [
    {
     "data": {
      "image/png": "[encoded data removed]",
      "text/plain": [
       "<Figure size 720x432 with 1 Axes>"
      ]
     },
     "metadata": {
      "needs_background": "light"
     },
     "output_type": "display_data"
    },
    {
     "data": {
      "image/png": "[encoded data removed]",
      "text/plain": [
       "<Figure size 720x432 with 1 Axes>"
      ]
     },
     "metadata": {
      "needs_background": "light"
     },
     "output_type": "display_data"
    }
   ],
   "source": [
    "data.Type.hist(grid=True, figsize=(10, 6))\n",
    "plot_show(title='Все клиенты')\n",
    "\n",
    "df.Type.hist(grid=True, figsize=(10, 6))\n",
    "plot_show(title='Ушедшие клиенты')"
   ]
  },
  {
   "cell_type": "markdown",
   "metadata": {},
   "source": [
    "Видно что те кто платит помесячно уходят веселее, чем те кто платит за более длительный срок."
   ]
  },
  {
   "cell_type": "markdown",
   "metadata": {},
   "source": [
    "## Часть 3. Подбор и обучение оптимальных моделей. "
   ]
  },
  {
   "cell_type": "markdown",
   "metadata": {},
   "source": [
    "#### Классы и функции, необходимые для решения задачи."
   ]
  },
  {
   "cell_type": "code",
   "execution_count": 34,
   "metadata": {},
   "outputs": [],
   "source": [
    "class ab_ProgressBar():\n",
    "    \n",
    "    def __init__(self, max=0):\n",
    "        self.max_count = max\n",
    "        self.spinner_state = 0\n",
    "        self.progress = 0\n",
    "        self.start_time = time.perf_counter()\n",
    "        self.progress_step = 100 / self.max_count\n",
    "        self.draw()\n",
    "    \n",
    "    def get_diff_time(self, t):\n",
    "        return int(t // 3600), int((t // 60) % 60), int(t % 60)\n",
    "    \n",
    "    def get_time_string(self):\n",
    "        return '{0[0]:02}:{0[1]:02}:{0[2]:02}'.format(self.get_diff_time(time.perf_counter() - self.start_time))\n",
    "    \n",
    "    def get_left_time_string(self):\n",
    "        cur_time = time.perf_counter() - self.start_time\n",
    "        try:\n",
    "            return '{0[0]:02}:{0[1]:02}:{0[2]:02}'.format(self.get_diff_time(max(0, cur_time * (100 - self.progress) / self.progress)))\n",
    "        except:\n",
    "            return ' - '\n",
    "            \n",
    "    def get_fill_progress(self):\n",
    "        count = int(self.progress / 2)\n",
    "        return '.' * count + ' ' * int(50 - count)\n",
    "    \n",
    "    def draw(self):\n",
    "        print(f'[{self.progress:.1f}%][time: {self.get_time_string()}][{self.get_fill_progress()}][time left: {self.get_left_time_string()}]', end='\\r')\n",
    " \n",
    "    def increment(self, count=1):\n",
    "        self.draw()\n",
    "        self.progress += self.progress_step * count\n",
    "    \n",
    "    def stop(self):\n",
    "        print()"
   ]
  },
  {
   "cell_type": "markdown",
   "metadata": {},
   "source": [
    "Функция для выделения целевого признака и разобивки выборки на тестовую,  и тренировочную"
   ]
  },
  {
   "cell_type": "code",
   "execution_count": 35,
   "metadata": {},
   "outputs": [],
   "source": [
    "class DataSplitter():\n",
    "    \n",
    "    def __init__(self, random_state=RANDOM_STATE):\n",
    "        self.random_state = random_state\n",
    "    \n",
    "    def split_target(self, df, target_column, need_drop_target):\n",
    "        result = {'X': df, 'y': df[target_column]}\n",
    "        if need_drop_target:\n",
    "            result['X'] = result['X'].drop([target_column], axis=1)\n",
    "        return result\n",
    "    \n",
    "    def split(self, df, target_column, \n",
    "              part=None, test_size=0.25, valid_size=0.25, \n",
    "              shuffle=True, need_drop_target=True, train_with_valid=False):\n",
    "        train_test = train_test_split(df, test_size=test_size, \n",
    "                                      shuffle=shuffle, random_state=self.random_state)\n",
    "        train_valid = train_test_split(train_test[0], test_size=valid_size, \n",
    "                                       shuffle=shuffle, random_state=self.random_state)\n",
    "        split_data = {}\n",
    "        if train_with_valid:\n",
    "            split_data['train'] = self.split_target(train_test[0], target_column, need_drop_target)\n",
    "        else:\n",
    "            split_data['train'] = self.split_target(train_valid[0], target_column, need_drop_target)\n",
    "        split_data['test'] = self.split_target(train_test[1], target_column, need_drop_target)\n",
    "        split_data['valid'] = self.split_target(train_valid[1], target_column, need_drop_target)\n",
    "        try:\n",
    "            self.X = split_data[part]['X']\n",
    "            self.y = split_data[part]['y']\n",
    "        except:\n",
    "            self.X = {'train': split_data['train']['X'], 'test': split_data['test']['X'], 'valid': split_data['valid']['X']}\n",
    "            self.y = {'train': split_data['train']['y'], 'test': split_data['test']['y'], 'valid': split_data['valid']['y']}"
   ]
  },
  {
   "cell_type": "markdown",
   "metadata": {},
   "source": [
    "Функция для балансировки одним из методов: *Upsampling* либо *Downsampling* "
   ]
  },
  {
   "cell_type": "code",
   "execution_count": 36,
   "metadata": {},
   "outputs": [],
   "source": [
    "def balance(features, target, technique='Upsampling', factor=None):\n",
    "    features_zeros, features_ones = features[target == 0], features[target == 1]\n",
    "    target_zeros, target_ones = target[target == 0], target[target == 1]\n",
    "    if factor == None:\n",
    "        factor = round(target[target == 0].count() / target[target == 1].count())\n",
    "    if technique == 'Upsampling':\n",
    "        new_features = pd.concat([features_zeros] + [features_ones] * factor)\n",
    "        new_target = pd.concat([target_zeros] + [target_ones] * factor)\n",
    "    elif technique == 'Downsampling':\n",
    "        new_features = pd.concat([features_zeros.sample(frac=1/factor, random_state=RANDOM_STATE)] + [features_ones])\n",
    "        new_target = pd.concat([target_zeros.sample(frac=1/factor, random_state=RANDOM_STATE)] + [target_ones])\n",
    "    else:\n",
    "        return features, target\n",
    "    \n",
    "    return shuffle(new_features, new_target, random_state=RANDOM_STATE)    "
   ]
  },
  {
   "cell_type": "markdown",
   "metadata": {},
   "source": [
    "Функция для упрощения получения тренировочной или тестовой выборки с включением балансировки для тренировочной выборки."
   ]
  },
  {
   "cell_type": "code",
   "execution_count": 37,
   "metadata": {},
   "outputs": [],
   "source": [
    "def get_train(df):\n",
    "    split_data = DataSplitter()\n",
    "    split_data.split(df, target_column='outflow', part='train', train_with_valid=True)\n",
    "    split_data.X, split_data.y = balance(split_data.X, split_data.y)        \n",
    "    return split_data"
   ]
  },
  {
   "cell_type": "code",
   "execution_count": 38,
   "metadata": {},
   "outputs": [],
   "source": [
    "def get_test(df):\n",
    "    split_data = DataSplitter()\n",
    "    split_data.split(df, target_column='outflow', part='test', train_with_valid=True)\n",
    "    return split_data"
   ]
  },
  {
   "cell_type": "markdown",
   "metadata": {},
   "source": [
    "Выделим в список категориальные признаки, которые необходимо преобразовывать в численные:"
   ]
  },
  {
   "cell_type": "code",
   "execution_count": 39,
   "metadata": {},
   "outputs": [],
   "source": [
    "categorial = ['Type', 'PaymentMethod', 'InternetService']"
   ]
  },
  {
   "cell_type": "markdown",
   "metadata": {},
   "source": [
    "Выделим в список численных признаков, которые необходимо стандартизировать:"
   ]
  },
  {
   "cell_type": "code",
   "execution_count": 40,
   "metadata": {},
   "outputs": [],
   "source": [
    "numerical = ['MonthlyCharges', 'time_life']"
   ]
  },
  {
   "cell_type": "markdown",
   "metadata": {},
   "source": [
    "Так как данных не так уж и много, то для обоих моделей будем использовать кросс валидацию с делением на 3 части, при этом каждая часть, которая будет выделяться на валидацию будет примерно соответствовать размеру тестовой выборки."
   ]
  },
  {
   "cell_type": "markdown",
   "metadata": {},
   "source": [
    "<a id='fp.10-bullet'></a> \n",
    "### 10. Обучение модели логистической регрессии."
   ]
  },
  {
   "cell_type": "markdown",
   "metadata": {},
   "source": [
    "Для логистической регрессии следует провести балансировку методом *Upsampling*, преобразовать категориальные признаки методом *OHE* для признаков *Type*, *PaymentMethod* и *InternetService*, а так же стандартизировать численные признаки *MonthlyCharges* и *time_life*."
   ]
  },
  {
   "cell_type": "markdown",
   "metadata": {},
   "source": [
    "Функция для создания пайплайна для логистической регрессии."
   ]
  },
  {
   "cell_type": "code",
   "execution_count": 41,
   "metadata": {},
   "outputs": [],
   "source": [
    "def GetLGPipeline():\n",
    "    scaler = StandardScaler() \n",
    "    numerical_selector = FunctionTransformer(lambda X: X[numerical])\n",
    "    numerical_preprocessor = Pipeline([('numerical_selector', numerical_selector), ('scaling', scaler)])\n",
    "\n",
    "    ohe = OneHotEncoder(sparse=False, handle_unknown='error', drop='first')\n",
    "    dummy_selector = FunctionTransformer(lambda X: X[categorial])\n",
    "    dummy_preprocessor = Pipeline([('dummy_selector', dummy_selector), (\"ohe\", ohe)])\n",
    "\n",
    "    feature_union = FeatureUnion([('numerical_preprocessor', numerical_preprocessor), ('dummy_preprocessor', dummy_preprocessor)])\n",
    "    pipeline = Pipeline([('preprocessing', feature_union), ('classifier', LogisticRegression())])\n",
    "    \n",
    "    return pipeline"
   ]
  },
  {
   "cell_type": "markdown",
   "metadata": {},
   "source": [
    "Функция для обучения логистической регрессии на кросс-валидации с использованием балансировки методом *Upsampling*, преобразованием категориальных признаков методом OHE и стандартизции численных признаков."
   ]
  },
  {
   "cell_type": "markdown",
   "metadata": {},
   "source": [
    "Возвращать функция будет метрику roc_auc"
   ]
  },
  {
   "cell_type": "code",
   "execution_count": 42,
   "metadata": {},
   "outputs": [],
   "source": [
    "def best_score_LogisticRegression(df, cv=3):\n",
    "    split_data = get_train(df)\n",
    "    pipeline = GetLGPipeline()\n",
    "    return sum(cross_val_score(pipeline, split_data.X, split_data.y, cv=cv, scoring='roc_auc')) / cv"
   ]
  },
  {
   "cell_type": "code",
   "execution_count": 43,
   "metadata": {},
   "outputs": [
    {
     "name": "stdout",
     "output_type": "stream",
     "text": [
      "Результат логистической регрессии на кросс валидации:\n"
     ]
    },
    {
     "data": {
      "text/plain": [
       "0.8378976489337022"
      ]
     },
     "metadata": {},
     "output_type": "display_data"
    }
   ],
   "source": [
    "print('Результат логистической регрессии на кросс валидации:')\n",
    "display(best_score_LogisticRegression(data))"
   ]
  },
  {
   "cell_type": "markdown",
   "metadata": {},
   "source": [
    "<a id='fp.11-bullet'></a> \n",
    "### 11. Подбор параметров и обучение модели градиентного бустинга."
   ]
  },
  {
   "cell_type": "markdown",
   "metadata": {},
   "source": [
    "Для градиентного бустинга следует провести балансировку методом *Upsampling*."
   ]
  },
  {
   "cell_type": "markdown",
   "metadata": {},
   "source": [
    "Возвращать функция будет набор подобранных параметров и получившуюся метрику, а так же feature_importances."
   ]
  },
  {
   "cell_type": "code",
   "execution_count": 44,
   "metadata": {},
   "outputs": [],
   "source": [
    "def best_score_CatBoostClassifier(df, params, cv=3):\n",
    "    \n",
    "    progress_bar = ab_ProgressBar(cv * len(params['max_depth']) * len(params['n_estimators']))\n",
    "\n",
    "    class ab_CatBoostClassifier(CatBoostClassifier):\n",
    "        def fit(self, X, y):\n",
    "            progress_bar.increment()\n",
    "            return super().fit(X, y)\n",
    "\n",
    "    result = {}\n",
    "    split_data = get_train(df)\n",
    "    grid = GridSearchCV(\n",
    "        ab_CatBoostClassifier(cat_features=categorial, \n",
    "                              random_state=RANDOM_STATE, logging_level='Silent', \n",
    "                              loss_function=\"Logloss\", learning_rate=0.5), \n",
    "        cv=cv, param_grid=params, scoring='roc_auc', refit=True)\n",
    "    \n",
    "    grid.fit(split_data.X, split_data.y)\n",
    "\n",
    "    result = {\n",
    "        'max_depth': grid.best_params_['max_depth'],\n",
    "        'n_estimators': grid.best_params_['n_estimators'],\n",
    "        'roc_auc_score': grid.best_score_,\n",
    "        'feature_importances': grid.best_estimator_.feature_importances_\n",
    "    }\n",
    "    progress_bar.stop()\n",
    "    return result"
   ]
  },
  {
   "cell_type": "markdown",
   "metadata": {},
   "source": [
    "Для бустинга будем подбирать параметры *max_depth* и *n_estimators*. Чтобы не переобучать модель, выделим для глубины значения от 1 до 10, а количество деревьев особо ограничевать не будем."
   ]
  },
  {
   "cell_type": "code",
   "execution_count": 45,
   "metadata": {},
   "outputs": [
    {
     "name": "stdout",
     "output_type": "stream",
     "text": [
      "[100.0%][time: 00:01:51][..................................................][time left: 00:00:00]\n"
     ]
    }
   ],
   "source": [
    "parameters = {'max_depth': range(1, 11, 2), 'n_estimators': range(50, 151, 40)}\n",
    "best_params = best_score_CatBoostClassifier(data, params=parameters)"
   ]
  },
  {
   "cell_type": "code",
   "execution_count": 46,
   "metadata": {},
   "outputs": [
    {
     "name": "stdout",
     "output_type": "stream",
     "text": [
      "Результат градиентного бустинга и подобранные параметры:\n"
     ]
    },
    {
     "data": {
      "text/plain": [
       "{'max_depth': 9,\n",
       " 'n_estimators': 130,\n",
       " 'roc_auc_score': 0.9387596272317644,\n",
       " 'feature_importances': array([ 6.97218507,  5.86541387,  8.03433147, 18.86736446,  3.50302025,\n",
       "         3.9205851 ,  4.5928108 ,  4.68439774,  3.83223076,  0.83955003,\n",
       "        38.88811045])}"
      ]
     },
     "metadata": {},
     "output_type": "display_data"
    }
   ],
   "source": [
    "print('Результат градиентного бустинга и подобранные параметры:')\n",
    "display(best_params)"
   ]
  },
  {
   "cell_type": "markdown",
   "metadata": {},
   "source": [
    "<a id='fp.12-bullet'></a> \n",
    "### 12. Вывод."
   ]
  },
  {
   "cell_type": "markdown",
   "metadata": {},
   "source": [
    "Логистическая регрессия на кросс-валидации показала не плохой результат для метрики **roc-auc = 0.838**, но возможность подобрать параметры для градиентного бустинга позволило этой модели дать гораздо лучший результат **roc-auc = 0.939**. В следующей части проекта проверим на тестовой выборке и ту и другую модель, при чём для бустинга исключим признаки значимость которых меньше 5."
   ]
  },
  {
   "cell_type": "markdown",
   "metadata": {},
   "source": [
    "## Часть 4. Проверка моделей на тестовой выборке. "
   ]
  },
  {
   "cell_type": "markdown",
   "metadata": {},
   "source": [
    "<a id='fp.13-bullet'></a> \n",
    "### 13. Проверка наилучшей модели логистической регрессии на тестовой выборке. "
   ]
  },
  {
   "cell_type": "code",
   "execution_count": 47,
   "metadata": {},
   "outputs": [],
   "source": [
    "def test_LogisticRegression(df):\n",
    "    split_data = get_train(df)\n",
    "    pipeline = GetLGPipeline()\n",
    "    pipeline.fit(split_data.X, split_data.y)\n",
    "    split_data = get_test(df)\n",
    "    roc_auc = roc_auc_score(split_data.y, pipeline.predict_proba(split_data.X)[:, 1])\n",
    "    accuracy = accuracy_score(split_data.y, pipeline.predict(split_data.X))\n",
    "    return roc_auc, accuracy"
   ]
  },
  {
   "cell_type": "code",
   "execution_count": 48,
   "metadata": {},
   "outputs": [
    {
     "name": "stdout",
     "output_type": "stream",
     "text": [
      "Результат логистической регрессии на тестовой выборке:\n",
      "roc_auc_score =  0.8296909799554566\n",
      "accuracy_score =  0.7194775695627484\n"
     ]
    }
   ],
   "source": [
    "print('Результат логистической регрессии на тестовой выборке:')\n",
    "roc_auc, accuracy = test_LogisticRegression(data)\n",
    "print('roc_auc_score = ', roc_auc)\n",
    "print('accuracy_score = ', accuracy)"
   ]
  },
  {
   "cell_type": "markdown",
   "metadata": {},
   "source": [
    "<a id='fp.14-bullet'></a> \n",
    "### 14. Проверка наилучшей модели лградиентного бустинга на тестовой выборке. "
   ]
  },
  {
   "cell_type": "code",
   "execution_count": 49,
   "metadata": {},
   "outputs": [],
   "source": [
    "def test_CatBoostClassifier(df, best_params):\n",
    "    split_data = get_train(df)\n",
    "    imp_columns = pd.DataFrame({'feature': list(split_data.X.columns), 'importance': best_params['feature_importances']})\n",
    "    imp_columns = imp_columns.sort_values('importance', ascending = False).reset_index(drop=True)\n",
    "    imp_columns = imp_columns[imp_columns.importance > 5]\n",
    "\n",
    "    cat_features = [feat for feat in imp_columns.feature if feat in categorial]\n",
    "    model = CatBoostClassifier(cat_features=categorial, \n",
    "                               random_state=RANDOM_STATE, \n",
    "                               logging_level='Silent', \n",
    "                               loss_function=\"Logloss\", \n",
    "                               learning_rate=0.5, \n",
    "                               max_depth=best_params['max_depth'], \n",
    "                               n_estimators=best_params['n_estimators']) \n",
    "    \n",
    "    \n",
    "    model.fit(split_data.X, split_data.y)\n",
    "    split_data = get_test(df)\n",
    "    roc_auc = roc_auc_score(split_data.y, model.predict_proba(split_data.X)[:, 1])\n",
    "    accuracy = accuracy_score(split_data.y, model.predict(split_data.X))\n",
    "    return roc_auc, accuracy"
   ]
  },
  {
   "cell_type": "code",
   "execution_count": 50,
   "metadata": {},
   "outputs": [
    {
     "name": "stdout",
     "output_type": "stream",
     "text": [
      "Результат шрадиентного бустинга на тестовой выборке:\n",
      "roc_auc_score = 0.8906810187951546\n",
      "accuracy_score = 0.8154457694491766\n"
     ]
    }
   ],
   "source": [
    "print('Результат шрадиентного бустинга на тестовой выборке:')\n",
    "roc_auc, accuracy = test_CatBoostClassifier(data, best_params)\n",
    "print('roc_auc_score =', roc_auc)\n",
    "print('accuracy_score =', accuracy)"
   ]
  },
  {
   "cell_type": "markdown",
   "metadata": {},
   "source": [
    "<a id='fp.15-bullet'></a> \n",
    "## Часть 5. Общий вывод. "
   ]
  },
  {
   "cell_type": "markdown",
   "metadata": {},
   "source": [
    "В результате проведённого исследования поставленной задаче по прогнозу оттока елиентов у оператора связи были изучены предоставленные компанией данные. На основании анализа были выведены нужные признаки для обучения модели, которая сможет прогнозировать отток клиентов. Были созданы производные признаки и выброшены признаки, которые оказались коллинеарными с другими, а так же те, где распределение ушедших клиентов и всего набора совпадают в относительных значениях. \n",
    "\n",
    "Для решения задачи прогнозирования были выбраны 2 наиболее быстрые модели - линейная регрессия и градиентный бустинг. Для градиентного бустинга были подобраны параметры на тренировочной выборки с использованием кросс-валидации. В результате градиентный бустинг предварительно показал отличный результат на метрике roc_auc = 0.939, логистическая регрессия показала более скромный, но тоже не плохой результат roc-auc = 0.838. Такие результаты позволили взять эти модели для проверки на тестовой выборки для оценки их качества и дальнейшем решении об их внедрении.\n",
    "\n",
    "В результате проверки моделей на тестовой выборке, у нас получились отличные результаты, а именно:\n",
    "**Метрика roc_auc у логистической регрессии составила почти 0,83**\n",
    "**Метрика accuracy у логистической регресси составила почти 0,72**\n",
    "**Метрика roc_auc у градиентного бустинга составила более 0,89**\n",
    "**Метрика accuracy у градиентного бустинга составила почти 0,82**\n",
    "\n",
    "Близкие значения на кросс-валидации и тестовой выборке у линейной регрессии означает что в данной модели минимальная переобученность, что может свидетельствовать о её стабильности на длительном сроке использования.\n",
    "У градиентного бустинга заметна небольшая переобученность, но высокий результат метрик даёт ему заметную фору для практического применения.\n",
    "\n",
    "Так же, в процессе обучения модели градиентного бустинга мы получили таблицу значимости различных признаков в предсказании:"
   ]
  },
  {
   "cell_type": "code",
   "execution_count": 51,
   "metadata": {},
   "outputs": [
    {
     "data": {
      "text/html": [
       "<div>\n",
       "<style scoped>\n",
       "    .dataframe tbody tr th:only-of-type {\n",
       "        vertical-align: middle;\n",
       "    }\n",
       "\n",
       "    .dataframe tbody tr th {\n",
       "        vertical-align: top;\n",
       "    }\n",
       "\n",
       "    .dataframe thead th {\n",
       "        text-align: right;\n",
       "    }\n",
       "</style>\n",
       "<table border=\"1\" class=\"dataframe\">\n",
       "  <thead>\n",
       "    <tr style=\"text-align: right;\">\n",
       "      <th></th>\n",
       "      <th>feature</th>\n",
       "      <th>importance</th>\n",
       "    </tr>\n",
       "  </thead>\n",
       "  <tbody>\n",
       "    <tr>\n",
       "      <th>0</th>\n",
       "      <td>time_life</td>\n",
       "      <td>38.888110</td>\n",
       "    </tr>\n",
       "    <tr>\n",
       "      <th>1</th>\n",
       "      <td>MonthlyCharges</td>\n",
       "      <td>18.867364</td>\n",
       "    </tr>\n",
       "    <tr>\n",
       "      <th>2</th>\n",
       "      <td>PaymentMethod</td>\n",
       "      <td>8.034331</td>\n",
       "    </tr>\n",
       "    <tr>\n",
       "      <th>3</th>\n",
       "      <td>Type</td>\n",
       "      <td>6.972185</td>\n",
       "    </tr>\n",
       "    <tr>\n",
       "      <th>4</th>\n",
       "      <td>PaperlessBilling</td>\n",
       "      <td>5.865414</td>\n",
       "    </tr>\n",
       "    <tr>\n",
       "      <th>5</th>\n",
       "      <td>OnlineSecurity</td>\n",
       "      <td>4.684398</td>\n",
       "    </tr>\n",
       "    <tr>\n",
       "      <th>6</th>\n",
       "      <td>InternetService</td>\n",
       "      <td>4.592811</td>\n",
       "    </tr>\n",
       "    <tr>\n",
       "      <th>7</th>\n",
       "      <td>Dependents</td>\n",
       "      <td>3.920585</td>\n",
       "    </tr>\n",
       "    <tr>\n",
       "      <th>8</th>\n",
       "      <td>TechSupport</td>\n",
       "      <td>3.832231</td>\n",
       "    </tr>\n",
       "    <tr>\n",
       "      <th>9</th>\n",
       "      <td>Partner</td>\n",
       "      <td>3.503020</td>\n",
       "    </tr>\n",
       "    <tr>\n",
       "      <th>10</th>\n",
       "      <td>use_internet</td>\n",
       "      <td>0.839550</td>\n",
       "    </tr>\n",
       "  </tbody>\n",
       "</table>\n",
       "</div>"
      ],
      "text/plain": [
       "             feature  importance\n",
       "0          time_life   38.888110\n",
       "1     MonthlyCharges   18.867364\n",
       "2      PaymentMethod    8.034331\n",
       "3               Type    6.972185\n",
       "4   PaperlessBilling    5.865414\n",
       "5     OnlineSecurity    4.684398\n",
       "6    InternetService    4.592811\n",
       "7         Dependents    3.920585\n",
       "8        TechSupport    3.832231\n",
       "9            Partner    3.503020\n",
       "10      use_internet    0.839550"
      ]
     },
     "metadata": {},
     "output_type": "display_data"
    }
   ],
   "source": [
    "display(pd.DataFrame({'feature': list(data.drop('outflow', axis=1).columns), \n",
    "                      'importance': best_params['feature_importances']}).\n",
    "        sort_values('importance', ascending = False).reset_index(drop=True))"
   ]
  },
  {
   "cell_type": "markdown",
   "metadata": {},
   "source": [
    "Данная таблица поможет понять отделу маркетинга какие характеристики из набора данных наиболее влияют на решение клиентов остаться или уйти."
   ]
  },
  {
   "cell_type": "code",
   "execution_count": null,
   "metadata": {},
   "outputs": [],
   "source": []
  }
 ],
 "metadata": {
  "kernelspec": {
   "display_name": "Python 3",
   "language": "python",
   "name": "python3"
  },
  "language_info": {
   "codemirror_mode": {
    "name": "ipython",
    "version": 3
   },
   "file_extension": ".py",
   "mimetype": "text/x-python",
   "name": "python",
   "nbconvert_exporter": "python",
   "pygments_lexer": "ipython3",
   "version": "3.8.5"
  }
 },
 "nbformat": 4,
 "nbformat_minor": 4
}
